{
 "cells": [
  {
   "cell_type": "markdown",
   "id": "4cb488b2",
   "metadata": {},
   "source": [
    "# LETS BEGIN FROM HERE"
   ]
  },
  {
   "cell_type": "code",
   "execution_count": 8,
   "id": "8ad31b6f",
   "metadata": {},
   "outputs": [],
   "source": [
    "data=[23,24,32,45,12,43,67,45,32,56,32]"
   ]
  },
  {
   "cell_type": "code",
   "execution_count": 9,
   "id": "c96df7e9",
   "metadata": {},
   "outputs": [
    {
     "data": {
      "text/plain": [
       "[23, 24, 32, 45, 12, 43, 67, 45, 32, 56, 32]"
      ]
     },
     "execution_count": 9,
     "metadata": {},
     "output_type": "execute_result"
    }
   ],
   "source": [
    "data"
   ]
  },
  {
   "cell_type": "code",
   "execution_count": 10,
   "id": "132a4822",
   "metadata": {},
   "outputs": [],
   "source": [
    "data_copy=data.copy()"
   ]
  },
  {
   "cell_type": "code",
   "execution_count": 11,
   "id": "73762d21",
   "metadata": {},
   "outputs": [
    {
     "data": {
      "text/plain": [
       "[23, 24, 32, 45, 12, 43, 67, 45, 32, 56, 32]"
      ]
     },
     "execution_count": 11,
     "metadata": {},
     "output_type": "execute_result"
    }
   ],
   "source": [
    "data_copy"
   ]
  },
  {
   "cell_type": "code",
   "execution_count": 12,
   "id": "4e1aae68",
   "metadata": {},
   "outputs": [
    {
     "data": {
      "text/plain": [
       "<AxesSubplot:ylabel='Count'>"
      ]
     },
     "execution_count": 12,
     "metadata": {},
     "output_type": "execute_result"
    },
    {
     "data": {
      "image/png": "[encoded data removed]",
      "text/plain": [
       "<Figure size 432x288 with 1 Axes>"
      ]
     },
     "metadata": {
      "needs_background": "light"
     },
     "output_type": "display_data"
    }
   ],
   "source": [
    "import seaborn as sns\n",
    "sns.histplot(data_copy,kde=True)"
   ]
  },
  {
   "cell_type": "code",
   "execution_count": 53,
   "id": "23cba29a",
   "metadata": {},
   "outputs": [],
   "source": [
    "data_copy.sort()"
   ]
  },
  {
   "cell_type": "code",
   "execution_count": 54,
   "id": "d5960a47",
   "metadata": {},
   "outputs": [
    {
     "data": {
      "text/plain": [
       "[12, 23, 24, 32, 32, 32, 43, 45, 45, 56, 67]"
      ]
     },
     "execution_count": 54,
     "metadata": {},
     "output_type": "execute_result"
    }
   ],
   "source": [
    "data_copy"
   ]
  },
  {
   "cell_type": "code",
   "execution_count": 55,
   "id": "b091911b",
   "metadata": {},
   "outputs": [],
   "source": [
    "data_copy.append(179)"
   ]
  },
  {
   "cell_type": "code",
   "execution_count": 56,
   "id": "c8102393",
   "metadata": {},
   "outputs": [],
   "source": [
    "data_copy.append(210)"
   ]
  },
  {
   "cell_type": "code",
   "execution_count": 57,
   "id": "30b5fd20",
   "metadata": {},
   "outputs": [],
   "source": [
    "data_copy.append(290)"
   ]
  },
  {
   "cell_type": "code",
   "execution_count": 58,
   "id": "04e82861",
   "metadata": {},
   "outputs": [
    {
     "data": {
      "text/plain": [
       "[12, 23, 24, 32, 32, 32, 43, 45, 45, 56, 67, 179, 210, 290]"
      ]
     },
     "execution_count": 58,
     "metadata": {},
     "output_type": "execute_result"
    }
   ],
   "source": [
    "data_copy"
   ]
  },
  {
   "cell_type": "code",
   "execution_count": 59,
   "id": "53f2d337",
   "metadata": {},
   "outputs": [
    {
     "data": {
      "text/plain": [
       "<AxesSubplot:ylabel='Count'>"
      ]
     },
     "execution_count": 59,
     "metadata": {},
     "output_type": "execute_result"
    },
    {
     "data": {
      "image/png": "[encoded data removed]",
      "text/plain": [
       "<Figure size 432x288 with 1 Axes>"
      ]
     },
     "metadata": {
      "needs_background": "light"
     },
     "output_type": "display_data"
    }
   ],
   "source": [
    "#this is right skewed data\n",
    "\n",
    "sns.histplot(data_copy,kde=True)"
   ]
  },
  {
   "cell_type": "code",
   "execution_count": 60,
   "id": "d5245184",
   "metadata": {},
   "outputs": [],
   "source": [
    "#this is left skewed data\n",
    "\n",
    "data_copy2=data.copy()"
   ]
  },
  {
   "cell_type": "code",
   "execution_count": 61,
   "id": "ad8caeec",
   "metadata": {},
   "outputs": [
    {
     "data": {
      "text/plain": [
       "[23, 24, 32, 45, 12, 43, 67, 45, 32, 56, 32]"
      ]
     },
     "execution_count": 61,
     "metadata": {},
     "output_type": "execute_result"
    }
   ],
   "source": [
    "data_copy2"
   ]
  },
  {
   "cell_type": "code",
   "execution_count": 62,
   "id": "c91fc96b",
   "metadata": {},
   "outputs": [],
   "source": [
    "data_copy2.insert(0,-10)"
   ]
  },
  {
   "cell_type": "code",
   "execution_count": 63,
   "id": "eeb3f185",
   "metadata": {},
   "outputs": [],
   "source": [
    "data_copy2.insert(0,-75)"
   ]
  },
  {
   "cell_type": "code",
   "execution_count": 64,
   "id": "07933030",
   "metadata": {},
   "outputs": [
    {
     "data": {
      "text/plain": [
       "[-75, -10, 23, 24, 32, 45, 12, 43, 67, 45, 32, 56, 32]"
      ]
     },
     "execution_count": 64,
     "metadata": {},
     "output_type": "execute_result"
    }
   ],
   "source": [
    "data_copy2"
   ]
  },
  {
   "cell_type": "code",
   "execution_count": 66,
   "id": "855fef09",
   "metadata": {},
   "outputs": [
    {
     "data": {
      "text/plain": [
       "<AxesSubplot:ylabel='Count'>"
      ]
     },
     "execution_count": 66,
     "metadata": {},
     "output_type": "execute_result"
    },
    {
     "data": {
      "image/png": "[encoded data removed]",
      "text/plain": [
       "<Figure size 432x288 with 1 Axes>"
      ]
     },
     "metadata": {
      "needs_background": "light"
     },
     "output_type": "display_data"
    }
   ],
   "source": [
    "sns.histplot(data_copy2,kde=True)"
   ]
  },
  {
   "cell_type": "code",
   "execution_count": 13,
   "id": "39df5aa3",
   "metadata": {},
   "outputs": [],
   "source": [
    "import pandas as pd\n",
    "data2=pd.read_csv(\"iris.csv\")"
   ]
  },
  {
   "cell_type": "code",
   "execution_count": 14,
   "id": "011eadb2",
   "metadata": {},
   "outputs": [
    {
     "data": {
      "text/html": [
       "<div>\n",
       "<style scoped>\n",
       "    .dataframe tbody tr th:only-of-type {\n",
       "        vertical-align: middle;\n",
       "    }\n",
       "\n",
       "    .dataframe tbody tr th {\n",
       "        vertical-align: top;\n",
       "    }\n",
       "\n",
       "    .dataframe thead th {\n",
       "        text-align: right;\n",
       "    }\n",
       "</style>\n",
       "<table border=\"1\" class=\"dataframe\">\n",
       "  <thead>\n",
       "    <tr style=\"text-align: right;\">\n",
       "      <th></th>\n",
       "      <th>sepal_length</th>\n",
       "      <th>sepal_width</th>\n",
       "      <th>petal_length</th>\n",
       "      <th>petal_width</th>\n",
       "      <th>species</th>\n",
       "    </tr>\n",
       "  </thead>\n",
       "  <tbody>\n",
       "    <tr>\n",
       "      <th>0</th>\n",
       "      <td>5.1</td>\n",
       "      <td>3.5</td>\n",
       "      <td>1.4</td>\n",
       "      <td>0.2</td>\n",
       "      <td>setosa</td>\n",
       "    </tr>\n",
       "    <tr>\n",
       "      <th>1</th>\n",
       "      <td>4.9</td>\n",
       "      <td>3.0</td>\n",
       "      <td>1.4</td>\n",
       "      <td>0.2</td>\n",
       "      <td>setosa</td>\n",
       "    </tr>\n",
       "    <tr>\n",
       "      <th>2</th>\n",
       "      <td>4.7</td>\n",
       "      <td>3.2</td>\n",
       "      <td>1.3</td>\n",
       "      <td>0.2</td>\n",
       "      <td>setosa</td>\n",
       "    </tr>\n",
       "    <tr>\n",
       "      <th>3</th>\n",
       "      <td>4.6</td>\n",
       "      <td>3.1</td>\n",
       "      <td>1.5</td>\n",
       "      <td>0.2</td>\n",
       "      <td>setosa</td>\n",
       "    </tr>\n",
       "    <tr>\n",
       "      <th>4</th>\n",
       "      <td>5.0</td>\n",
       "      <td>3.6</td>\n",
       "      <td>1.4</td>\n",
       "      <td>0.2</td>\n",
       "      <td>setosa</td>\n",
       "    </tr>\n",
       "  </tbody>\n",
       "</table>\n",
       "</div>"
      ],
      "text/plain": [
       "   sepal_length  sepal_width  petal_length  petal_width species\n",
       "0           5.1          3.5           1.4          0.2  setosa\n",
       "1           4.9          3.0           1.4          0.2  setosa\n",
       "2           4.7          3.2           1.3          0.2  setosa\n",
       "3           4.6          3.1           1.5          0.2  setosa\n",
       "4           5.0          3.6           1.4          0.2  setosa"
      ]
     },
     "execution_count": 14,
     "metadata": {},
     "output_type": "execute_result"
    }
   ],
   "source": [
    "data2.head()"
   ]
  },
  {
   "cell_type": "code",
   "execution_count": 70,
   "id": "9b837e7c",
   "metadata": {},
   "outputs": [
    {
     "data": {
      "text/plain": [
       "0      5.1\n",
       "1      4.9\n",
       "2      4.7\n",
       "3      4.6\n",
       "4      5.0\n",
       "      ... \n",
       "145    6.7\n",
       "146    6.3\n",
       "147    6.5\n",
       "148    6.2\n",
       "149    5.9\n",
       "Name: sepal_length, Length: 150, dtype: float64"
      ]
     },
     "execution_count": 70,
     "metadata": {},
     "output_type": "execute_result"
    }
   ],
   "source": [
    "data2[\"sepal_length\"]"
   ]
  },
  {
   "cell_type": "code",
   "execution_count": 72,
   "id": "15a35ef1",
   "metadata": {},
   "outputs": [
    {
     "data": {
      "text/plain": [
       "<AxesSubplot:xlabel='sepal_length', ylabel='Count'>"
      ]
     },
     "execution_count": 72,
     "metadata": {},
     "output_type": "execute_result"
    },
    {
     "data": {
      "image/png": "[encoded data removed]",
      "text/plain": [
       "<Figure size 432x288 with 1 Axes>"
      ]
     },
     "metadata": {
      "needs_background": "light"
     },
     "output_type": "display_data"
    }
   ],
   "source": [
    "sns.histplot(data2[\"sepal_length\"],kde=True)"
   ]
  },
  {
   "cell_type": "code",
   "execution_count": 75,
   "id": "8fb20de8",
   "metadata": {},
   "outputs": [
    {
     "data": {
      "text/plain": [
       "<AxesSubplot:xlabel='sepal_width', ylabel='Count'>"
      ]
     },
     "execution_count": 75,
     "metadata": {},
     "output_type": "execute_result"
    },
    {
     "data": {
      "image/png": "[encoded data removed]",
      "text/plain": [
       "<Figure size 432x288 with 1 Axes>"
      ]
     },
     "metadata": {
      "needs_background": "light"
     },
     "output_type": "display_data"
    }
   ],
   "source": [
    "sns.histplot(data2[\"sepal_width\"],kde=True)"
   ]
  },
  {
   "cell_type": "code",
   "execution_count": 76,
   "id": "8d575054",
   "metadata": {},
   "outputs": [
    {
     "data": {
      "text/plain": [
       "<AxesSubplot:xlabel='petal_length', ylabel='Count'>"
      ]
     },
     "execution_count": 76,
     "metadata": {},
     "output_type": "execute_result"
    },
    {
     "data": {
      "image/png": "[encoded data removed]",
      "text/plain": [
       "<Figure size 432x288 with 1 Axes>"
      ]
     },
     "metadata": {
      "needs_background": "light"
     },
     "output_type": "display_data"
    }
   ],
   "source": [
    "sns.histplot(data2[\"petal_length\"],kde=True)"
   ]
  },
  {
   "cell_type": "code",
   "execution_count": 77,
   "id": "dce6cfd0",
   "metadata": {},
   "outputs": [
    {
     "data": {
      "text/plain": [
       "<AxesSubplot:xlabel='petal_width', ylabel='Count'>"
      ]
     },
     "execution_count": 77,
     "metadata": {},
     "output_type": "execute_result"
    },
    {
     "data": {
      "image/png": "[encoded data removed]",
      "text/plain": [
       "<Figure size 432x288 with 1 Axes>"
      ]
     },
     "metadata": {
      "needs_background": "light"
     },
     "output_type": "display_data"
    }
   ],
   "source": [
    "sns.histplot(data2[\"petal_width\"],kde=True)\n",
    "\n",
    "#curve is getting skewd coz of outlier"
   ]
  },
  {
   "cell_type": "code",
   "execution_count": 15,
   "id": "db047fb7",
   "metadata": {},
   "outputs": [],
   "source": [
    "import numpy as np\n",
    "mu=0.5\n",
    "sigma=0.2\n",
    "normal_distrubuted_data=np.random.normal(mu,sigma,1000)"
   ]
  },
  {
   "cell_type": "code",
   "execution_count": 16,
   "id": "f9e7aedf",
   "metadata": {},
   "outputs": [
    {
     "data": {
      "text/plain": [
       "array([ 0.4056532 ,  0.39917304,  0.20434374,  0.74224739,  0.48764313,\n",
       "        0.60789093,  0.40707726,  0.93234493,  0.08536201,  0.52750089,\n",
       "        0.25370657,  0.47567481,  0.43655196,  0.46879199,  0.55061196,\n",
       "        0.59144624,  0.74474463,  0.38082322,  0.36388939,  0.5669014 ,\n",
       "        0.50033299,  0.59453933,  0.3494757 ,  0.39193628,  0.58072745,\n",
       "        0.46259581,  0.49502544,  0.76258751,  0.66541583,  0.43733653,\n",
       "        0.59981982,  0.46651444,  0.40642357,  0.2534043 ,  0.58600245,\n",
       "        0.21515059, -0.03740735,  0.61735922,  0.61046073,  0.7530173 ,\n",
       "        0.38933987,  0.43877931,  0.88116187,  0.9921427 ,  0.67882234,\n",
       "        0.5398302 ,  0.35422327,  0.52749215,  0.47917719,  0.69826167,\n",
       "        0.48435481,  0.26934024,  0.49790967,  0.39264459,  0.56221387,\n",
       "        0.53079999,  0.37683398,  0.4098513 ,  0.7172947 ,  0.36290905,\n",
       "        0.37878244,  0.28053413,  0.4787346 ,  0.52337173,  0.59328968,\n",
       "        0.55867116,  0.41630962,  0.59160707,  0.58584579,  0.45431588,\n",
       "        0.23944918,  0.64200392,  0.58060638,  0.50860772,  0.6964506 ,\n",
       "        0.25393709,  0.44827654,  0.65671157,  0.17717714,  0.5095681 ,\n",
       "        0.18212067,  0.30256068,  0.61474112,  0.85344364,  0.44594829,\n",
       "        0.39374432,  0.73376888,  0.35448739,  0.72527227,  0.45588259,\n",
       "        0.61387692,  0.03831323,  0.05350085,  0.80677364,  0.55036685,\n",
       "        0.56989457,  0.46889655,  0.22042966,  0.51347759,  0.29539089,\n",
       "        0.21216151,  0.20015251,  0.55421463,  0.36437717,  0.39638943,\n",
       "        0.20079124,  0.46835474,  0.25572679,  0.59530167,  0.9491625 ,\n",
       "        0.39182207,  0.28014496,  0.32566294,  0.6736395 ,  0.15082568,\n",
       "        0.83567425,  0.33257193,  0.33024102,  0.49825486,  0.41444929,\n",
       "        0.76311032,  0.47315844,  0.60201394,  0.24270273,  0.62682449,\n",
       "        0.2422609 ,  0.59752258,  0.44417579,  0.27294263,  0.19551311,\n",
       "        0.54544809,  0.77358718,  0.52189621,  0.66882693,  0.52633357,\n",
       "        0.7340053 ,  0.43513875,  0.3992701 ,  0.58792852,  0.69754039,\n",
       "        0.29870459,  0.42897623,  0.50078296,  0.5136327 ,  0.69589472,\n",
       "        0.47817026,  0.36587064,  0.86826885,  0.50756454,  0.22942345,\n",
       "        0.21432415,  0.49637629,  0.45073641,  0.25745838,  0.01399203,\n",
       "        0.49744649,  0.48977128,  0.62830658,  0.44913793,  0.66743575,\n",
       "        0.07960207,  0.57660959,  0.23020949,  0.22067901,  0.35110545,\n",
       "        0.30428277,  0.26775436,  0.40292743,  0.64902037,  0.57406388,\n",
       "        0.1766328 ,  0.57456177,  0.68487264,  0.52510809,  0.52245733,\n",
       "        0.68887597,  0.83724002,  0.18162833,  0.70902592,  0.43073922,\n",
       "        0.09754557,  0.58765579,  0.75231365,  0.63431122,  0.02818634,\n",
       "        0.52495043,  0.46405607, -0.03264987,  0.37581057,  0.63587399,\n",
       "        0.45331482,  0.19290827,  0.74576714,  0.55234581,  0.11184719,\n",
       "        0.41788795,  0.38118143,  0.39075362,  0.25676418,  0.77148714,\n",
       "        0.31873075,  0.28877463,  0.23216109,  0.27354047,  0.54264121,\n",
       "        0.46644394,  0.51420104,  0.43450334,  0.39261758,  0.57819244,\n",
       "        0.38631353,  0.56433345,  0.35770982,  0.72057468,  0.83081788,\n",
       "        0.35959353,  0.18382648,  0.55182261,  0.50271816,  0.51381066,\n",
       "        0.52613228,  0.73582756,  0.4733391 ,  0.59654306,  0.97419379,\n",
       "        0.61409816,  0.69926789,  0.58829203,  0.29640314,  0.02742832,\n",
       "        0.58991135,  0.05507889,  0.54841956,  0.66768192,  0.77848889,\n",
       "        0.59786506,  0.90873555,  0.8235713 ,  0.41263813,  0.65153228,\n",
       "        0.19382168,  0.38311014,  0.41090695,  0.82544158,  0.47578945,\n",
       "        0.56778586,  0.22317194,  0.62648082,  0.76418499,  0.46605723,\n",
       "        0.51499064,  0.57984981,  0.12389107,  0.19842345,  0.3161557 ,\n",
       "        0.67859345,  0.36439152,  0.62906195,  0.61128719,  0.07070987,\n",
       "        0.63176694,  0.55491288,  0.71352272,  0.46201022,  0.49079019,\n",
       "        0.66560871,  0.74970202,  0.31849703,  0.33972826,  0.46870862,\n",
       "        0.28638267,  0.3468943 ,  0.84427933,  0.01769937,  0.32274553,\n",
       "        0.38526154,  0.48864749,  0.35532068,  0.59494538,  0.7133988 ,\n",
       "        0.39674405,  0.67533394,  0.38575944,  0.2149278 ,  0.4322367 ,\n",
       "        0.38380227,  0.73397665,  0.56212626,  0.6206566 ,  0.39123815,\n",
       "        0.70368314, -0.00931173,  0.12001421,  0.6303407 ,  0.69438609,\n",
       "        0.40475133,  0.58769921,  0.69647514,  0.2586707 ,  0.41787674,\n",
       "        0.38240948,  0.49016898,  0.4878509 ,  0.15955601,  0.44436461,\n",
       "        0.54116332,  0.71318457,  0.78046385,  0.2337657 ,  0.18705536,\n",
       "        0.73942318,  0.97625135,  0.35901833,  0.42919386,  0.69324012,\n",
       "        0.51878134,  0.69828504,  0.44185623,  0.64547911,  0.58957434,\n",
       "        0.78551651,  0.56029219,  0.35566846,  0.50014433,  0.38253616,\n",
       "        0.64137576,  0.49889503,  0.42385046,  0.1372235 ,  0.27264343,\n",
       "        0.36325894,  0.63894948,  0.19215003,  0.51098139,  0.54210473,\n",
       "        0.31052062,  0.62592497,  0.30022792,  0.81976203,  0.90973549,\n",
       "        0.34667791,  0.40432598,  0.55711537,  0.47121818,  0.64907055,\n",
       "        0.5383076 ,  0.68502181,  0.64179995,  0.9070893 ,  0.63494069,\n",
       "        0.96986361,  0.37051543,  0.46197015,  0.36117965,  0.45158096,\n",
       "        0.66745142,  0.74754622,  0.8337815 ,  0.27004254,  0.63709467,\n",
       "        0.513227  ,  0.48546102,  0.62767918,  0.67449813,  0.32909401,\n",
       "        0.25706984,  0.55158954,  0.29455262,  0.46973396,  0.69749862,\n",
       "        0.15882769,  0.60386427,  0.50099495,  0.334769  ,  0.60960631,\n",
       "        0.32028707,  0.44115618,  0.55569768,  0.47667306,  0.39526867,\n",
       "        0.41960559,  0.50363263,  0.66067913,  0.67382358,  0.13298702,\n",
       "        0.39460088,  0.76337132,  0.01268038,  0.54907421,  0.39925495,\n",
       "        0.54488715,  0.16050876,  0.35013082,  0.19444325,  0.29393446,\n",
       "       -0.12946063,  0.58502297,  0.66279738,  0.73796388,  0.55638792,\n",
       "        0.73030568,  0.51496082,  0.72665744, -0.02843403,  0.62452085,\n",
       "        0.35758663,  0.57370805,  0.6192257 ,  0.57181759,  0.98438066,\n",
       "        0.95664374,  0.33969701,  0.4154396 ,  0.52887464,  0.79243113,\n",
       "        0.63881714,  0.36749445,  0.43309101,  0.44711425,  0.94481293,\n",
       "        0.83517106,  0.77637405,  0.31742874,  0.7802626 ,  0.75520586,\n",
       "        0.40573349,  0.1815602 ,  0.37154396,  0.35718412,  0.1591742 ,\n",
       "        0.31814803,  0.73001676,  0.24352368,  0.47739676,  0.4652545 ,\n",
       "        0.70262418,  0.98653515,  0.82080123,  0.27355543,  0.17552363,\n",
       "        0.60613842,  0.88302158,  0.03039705,  0.65764687,  0.04852009,\n",
       "        0.36655423,  0.93478589,  0.61514023,  0.42466097,  0.07304897,\n",
       "        0.27129677,  0.98908426,  0.40765821,  0.36347279,  0.37057419,\n",
       "        0.69653723,  0.14756348,  0.80390418,  0.80048237,  0.56635977,\n",
       "        0.4305698 ,  0.68188023,  0.67086193,  0.61085114,  0.57369231,\n",
       "        0.73763724,  0.62558149,  0.52106148,  0.77581513,  0.90170731,\n",
       "        0.38352018,  0.35668335,  0.53941044,  0.68145173,  0.31266574,\n",
       "        0.50166837,  0.5156682 ,  0.62315523,  0.55580117,  0.74621834,\n",
       "        0.32909306,  0.58564413,  0.61557073,  0.39873763,  0.6552027 ,\n",
       "        0.60779254,  0.46982928,  0.83538113,  0.48933552,  0.61529841,\n",
       "        0.77860177,  0.16874416,  0.60632664,  0.61119523,  0.53623172,\n",
       "        0.43046265,  0.63032884,  0.3700118 ,  0.51174448,  0.57292047,\n",
       "        0.86363479,  0.36330187,  0.64972007,  0.51998466,  0.27253248,\n",
       "        0.82451668,  0.57802816,  0.26731341,  0.53418206,  0.59886929,\n",
       "        0.16937054,  0.55296129,  0.17543548,  0.49136109,  0.61340015,\n",
       "        0.45774939,  0.44352584,  0.53324469,  0.47752373,  0.38409136,\n",
       "        0.5897265 ,  0.54832474,  0.77896766,  0.90843639,  0.55638859,\n",
       "        0.38130355,  0.61375775,  0.31936677,  0.74320034,  0.35333194,\n",
       "        0.78515428,  0.63694403,  0.51468719,  0.37097151,  0.42194593,\n",
       "        0.80043043,  0.61433599,  0.32612258,  0.56379731,  0.54325375,\n",
       "        0.23545054,  0.63836908,  0.4931527 ,  0.11780202,  0.64381129,\n",
       "        0.23787853,  0.47751272,  0.09280133,  0.33993054,  0.64820544,\n",
       "        0.29278485,  0.50775894,  0.49239576,  0.7323499 ,  0.46062568,\n",
       "        0.31187226,  0.6954919 ,  0.08628094,  0.43990398,  0.2323402 ,\n",
       "        0.67816178,  0.14575477,  0.95230498,  0.59605268,  0.37175769,\n",
       "        0.30742186,  0.44909397,  0.34843981,  0.52949019,  0.71634745,\n",
       "        0.43014148,  0.33148257,  0.56229671,  0.97843355,  0.55347246,\n",
       "        0.78891035,  0.17259373,  0.4646526 ,  0.18019746,  0.51398367,\n",
       "        0.44767407,  0.71623365,  0.63278406,  0.36025077,  0.34267989,\n",
       "        0.47479438,  0.5291945 ,  0.82906892,  0.61212988,  0.7303644 ,\n",
       "        0.38220797,  0.57574979,  0.56314794,  0.48538598,  0.42330093,\n",
       "        0.2061733 ,  0.60075244,  0.40925753,  0.48655153,  0.63060327,\n",
       "        0.44644876,  0.46017395,  0.67167806,  0.49893062,  0.36807496,\n",
       "        0.6634944 ,  0.73561047,  0.60436619,  0.22732023,  0.29758888,\n",
       "        0.27814974,  0.42510341,  0.69995501,  0.48056981,  0.45535753,\n",
       "        0.44823709,  0.58177051,  0.2458527 ,  0.50583604,  0.54006225,\n",
       "        0.59675676,  0.57484007,  0.52367752,  0.38932337,  0.4942362 ,\n",
       "        0.37272371,  0.93888394,  0.36251996,  0.5119792 ,  0.75058161,\n",
       "        0.87012477,  0.4160975 ,  0.44251653,  0.47183782,  0.26808108,\n",
       "        0.28382296,  0.55820942,  0.58349326,  0.81837736,  0.69614512,\n",
       "        0.7270654 ,  0.28739245,  0.55743584,  0.76453401,  0.71938616,\n",
       "        0.4003579 ,  0.69767655,  0.70618313,  0.69307013,  0.21715459,\n",
       "        0.68293726,  0.38498939,  0.43332565,  0.66749395,  0.46276021,\n",
       "        0.71634351,  0.42989898,  0.94184146,  0.50712523,  0.40090405,\n",
       "        0.48645257,  0.33680958,  0.49274115,  0.38042972,  0.47210272,\n",
       "        0.57788751,  0.53053067,  0.18095546,  0.19056646,  0.53139655,\n",
       "        0.39938607,  0.65774773,  0.93680799,  0.93349546,  0.63981987,\n",
       "        0.46415401,  0.29228294,  0.74688113,  0.31046032,  0.77634117,\n",
       "        0.20877033,  0.78187589,  0.22194897,  0.43293702,  0.0677131 ,\n",
       "        0.42300922,  0.26937494,  0.82821793,  0.31224424,  0.64869057,\n",
       "        0.41346938,  0.74752718,  0.9865536 ,  0.66882629,  0.36627944,\n",
       "        0.15140881,  0.23615794,  0.11761238,  0.43107705,  0.50183451,\n",
       "        0.57775364,  0.71737431,  0.55467203,  0.25369184,  0.30256878,\n",
       "        0.66394502,  0.40053612,  0.48153905,  1.18791306,  0.32911396,\n",
       "        0.48447169,  0.45327141,  0.67213911,  0.63800458,  0.53280662,\n",
       "        0.47702731,  0.36444947,  0.33635957,  0.61650676,  0.51773673,\n",
       "        0.34357389,  0.33590311,  0.57901674,  0.56964061,  0.56370194,\n",
       "        0.43116029,  0.64971878,  0.38672302,  0.40662524,  0.23317284,\n",
       "        0.67125693,  0.56279811,  0.76449412,  0.61443328,  0.5077741 ,\n",
       "        0.362452  ,  0.56620689,  0.42245067,  0.33431818,  0.21529472,\n",
       "        0.62250197,  0.32264076,  0.74540942,  0.3264951 ,  0.31642654,\n",
       "        0.4302232 ,  0.36097838,  0.42159066,  0.4120972 ,  0.55840948,\n",
       "        0.71222194,  0.30264667,  0.50983213,  0.53878394,  0.5519883 ,\n",
       "        0.89310392,  0.02518455,  0.85382933,  0.11405979,  0.31990407,\n",
       "        0.58093651,  0.59686234,  0.25011884,  0.37417702,  0.63287683,\n",
       "        0.4245384 ,  0.84139157,  0.82527165,  0.66883919,  0.71471797,\n",
       "        0.64945715,  0.76412837,  0.60626212,  0.57378249,  0.63243235,\n",
       "        0.55150271,  0.4138982 ,  0.47859895,  0.39856545,  0.35958818,\n",
       "        0.49285868,  0.42926595,  0.43444861,  0.49240004,  0.79960374,\n",
       "        0.62772849,  0.62555399,  0.69060514,  0.3145449 ,  0.56029859,\n",
       "        0.49677097,  0.53071957,  0.36761567,  0.90776454,  0.49210014,\n",
       "        0.60563565,  0.15142203,  0.08753107,  0.56508958,  0.47765369,\n",
       "        0.51885831,  0.33657196,  0.73636959,  0.06928765,  0.96811343,\n",
       "        0.32303193,  0.33578731,  0.39714556,  0.48249547,  0.56384356,\n",
       "        0.66967874,  0.55841328,  0.18355162,  0.70581727,  1.03449234,\n",
       "        0.71675668,  0.43597837,  0.84544051,  0.41531649,  0.58899813,\n",
       "        0.54941466,  0.52607281,  0.45948954,  0.43575931,  0.15725557,\n",
       "        0.57248284,  0.68861106,  0.61405098,  0.48745053,  0.30264247,\n",
       "        0.29607191,  0.41069403,  0.62407855,  0.50283366,  0.26933775,\n",
       "        0.26461271,  0.47300975,  0.38155155,  0.70759973,  1.0804211 ,\n",
       "        0.64492762,  0.61743206,  0.54268004,  0.58453805,  0.62746486,\n",
       "        0.46028975,  0.71471825,  0.63813551,  0.04197301,  0.08321205,\n",
       "        0.70793511,  0.3381506 ,  0.52447023,  0.72719218,  0.21317279,\n",
       "        0.18145591,  0.48944282,  0.63548557,  0.56828556,  0.43637796,\n",
       "        0.90102512,  0.54382733,  0.72009002,  0.27771575,  0.24081661,\n",
       "        0.38302192,  0.59942616,  0.76262323,  0.58692479,  0.44225391,\n",
       "        0.63206811,  0.50549125,  0.38708796,  0.26450459,  0.21983006,\n",
       "        0.52025665,  0.72258376,  0.62023611,  0.65238689,  0.7073771 ,\n",
       "        0.39617017,  0.24172026,  0.45617407,  0.88564917,  0.52994995,\n",
       "        0.18603461,  0.12596777,  0.34786389,  0.59406467,  0.26665214,\n",
       "        0.51555689,  0.53717887,  0.40509407,  0.55994781,  0.68207826,\n",
       "        0.60009662,  0.64432441,  0.75469895,  0.63802804,  0.67613202,\n",
       "        0.41673044,  0.23267772,  0.21288897,  0.75950779,  0.84335001,\n",
       "        0.42996632,  0.43260689,  0.52524526,  0.58966208,  0.73910354,\n",
       "        0.73361108,  0.67162017,  0.97860101,  0.5784952 ,  0.90122921,\n",
       "        0.68485512,  0.62806849,  0.36304078,  0.50507385,  0.48964618,\n",
       "        0.411421  ,  0.20935386,  0.36112226,  0.74772035,  0.49513155,\n",
       "        0.38326312,  0.65294468,  0.8590989 ,  0.61087128,  0.30646659,\n",
       "        0.4642658 ,  0.80260121,  0.74710264,  0.45497849,  0.71444146,\n",
       "        0.63798337,  0.28522458,  1.08013868,  0.50647338,  0.46786093,\n",
       "        0.56959825,  0.12630191,  0.29898247,  0.67060306,  0.3768553 ,\n",
       "        0.59225733,  0.42388472,  0.61201539,  0.57852177,  0.57350455,\n",
       "        0.83307465,  0.63901117,  0.34836711,  0.3473308 ,  0.49028623,\n",
       "        0.36848479,  0.68412615,  0.76757395,  0.24317813,  0.69085224,\n",
       "        0.56156749,  0.59342609,  0.67894333,  0.61387558,  0.69519465,\n",
       "        0.33654511,  0.23850036,  0.35575513,  0.18393697,  0.60691378,\n",
       "        0.25312757,  0.57335586,  0.58927374,  0.44668744,  0.56303602,\n",
       "        0.55236915,  0.21556037,  0.42258159,  0.4149618 ,  0.35825459,\n",
       "        0.34030847, -0.12594796,  0.65348657,  0.34633959,  0.30793628,\n",
       "        0.45188996,  0.78883342,  0.52296272,  0.58691512,  0.74790663,\n",
       "        0.61698234,  0.51098226,  0.64998655,  0.36677213,  0.60278027,\n",
       "       -0.04320903,  0.09406846,  0.62041234,  0.78429739,  0.6181686 ])"
      ]
     },
     "execution_count": 16,
     "metadata": {},
     "output_type": "execute_result"
    }
   ],
   "source": [
    "normal_distrubuted_data"
   ]
  },
  {
   "cell_type": "code",
   "execution_count": 17,
   "id": "a7b2f65f",
   "metadata": {},
   "outputs": [
    {
     "data": {
      "text/plain": [
       "<AxesSubplot:ylabel='Count'>"
      ]
     },
     "execution_count": 17,
     "metadata": {},
     "output_type": "execute_result"
    },
    {
     "data": {
      "image/png": "[encoded data removed]",
      "text/plain": [
       "<Figure size 432x288 with 1 Axes>"
      ]
     },
     "metadata": {
      "needs_background": "light"
     },
     "output_type": "display_data"
    }
   ],
   "source": [
    "sns.histplot(normal_distrubuted_data,kde=True)"
   ]
  },
  {
   "cell_type": "code",
   "execution_count": 25,
   "id": "87b8ae43",
   "metadata": {},
   "outputs": [],
   "source": [
    "mu=3.0\n",
    "sigma=1.0\n",
    "lognormal_distrubuted_data=np.random.lognormal(mu,sigma,1000)"
   ]
  },
  {
   "cell_type": "code",
   "execution_count": 26,
   "id": "fc38eb40",
   "metadata": {},
   "outputs": [
    {
     "data": {
      "text/plain": [
       "array([5.29635340e+00, 5.12889805e+01, 2.08376692e+00, 4.85899552e+01,\n",
       "       3.29420310e+01, 1.29032977e+01, 2.19508037e+01, 4.49692981e+00,\n",
       "       3.98288866e+01, 4.22163081e+00, 6.95370394e+00, 1.70541024e+01,\n",
       "       1.25080843e+01, 8.19046728e+00, 4.84372158e+01, 2.43337625e+01,\n",
       "       1.79073860e+01, 4.75253404e+01, 1.15743280e+02, 3.22815604e+01,\n",
       "       8.19481953e+00, 1.15497752e+01, 1.58640608e+01, 1.57754173e+01,\n",
       "       4.83919787e+01, 1.02494648e+01, 6.48470864e+00, 1.70213672e+01,\n",
       "       5.93433021e+01, 3.54068414e+01, 1.12827967e+01, 4.69078194e+01,\n",
       "       2.82258728e+00, 2.03723094e+01, 1.69897494e+01, 1.93823732e+01,\n",
       "       1.33535921e+01, 2.75853156e+00, 7.70002917e+00, 2.20441395e+01,\n",
       "       1.04388023e+01, 9.19798139e+00, 5.67791986e+01, 3.30310265e+01,\n",
       "       5.36176915e+01, 6.68553505e+00, 2.16243387e+01, 4.77018212e+01,\n",
       "       1.96522127e+01, 1.27316274e+02, 2.81150282e+00, 2.62585288e+01,\n",
       "       5.34917363e+01, 4.30165921e+01, 1.31301349e+01, 5.83371525e+01,\n",
       "       7.07496737e+00, 5.13968748e+01, 1.45181801e+01, 3.93913881e+01,\n",
       "       5.84639198e+00, 2.22041735e+01, 4.89496820e+00, 2.34562023e+01,\n",
       "       1.82455284e+01, 3.40172336e+01, 4.12668100e+01, 9.37262522e+00,\n",
       "       1.70809607e+01, 7.73390399e+00, 5.82387942e+00, 2.58961570e+01,\n",
       "       3.80490197e+01, 4.11720077e+01, 3.48585436e+01, 1.24776478e+01,\n",
       "       3.82580985e+00, 5.52230406e+00, 2.03717892e+01, 2.53270408e+01,\n",
       "       1.69419087e+02, 3.84414587e+00, 1.15585360e+01, 6.89563875e+00,\n",
       "       1.99797197e+00, 4.46728849e+01, 1.40225551e+01, 3.55916780e+01,\n",
       "       1.54100649e+01, 7.37211831e+00, 1.01159695e+01, 4.47849664e+01,\n",
       "       9.32366903e+00, 3.88119300e+01, 2.67828148e+01, 2.86798531e+02,\n",
       "       1.55288537e+01, 6.77084313e+01, 1.20616561e+01, 1.22464324e+01,\n",
       "       9.83074369e+00, 7.31771594e+00, 1.84469799e+00, 5.07770903e+01,\n",
       "       7.76470529e+00, 1.77316517e+01, 4.81096925e+01, 1.04154569e+02,\n",
       "       3.75108447e+01, 2.50071973e+01, 1.69859872e+01, 4.91912507e+00,\n",
       "       1.22357701e+01, 5.84146381e+01, 9.29156205e+01, 2.34045666e+01,\n",
       "       7.42539814e+01, 3.08394860e+01, 6.00168958e+01, 1.53678517e+01,\n",
       "       1.99911129e+01, 3.03110157e+01, 4.79492324e+01, 1.22137042e+01,\n",
       "       1.40046815e+01, 1.38615837e+00, 2.40939388e+01, 6.42474336e+00,\n",
       "       2.26025714e+01, 1.51039748e+01, 6.65538312e+00, 1.73864259e+01,\n",
       "       2.43137921e+01, 1.50908618e+01, 3.20582312e+01, 1.56271139e+01,\n",
       "       1.26318025e+01, 3.11927718e+01, 8.09491666e+00, 2.37473864e+01,\n",
       "       4.25064138e+01, 2.25473393e+01, 4.81487692e+01, 1.04886235e+02,\n",
       "       2.43513884e+01, 1.47536158e+02, 1.31322018e+01, 1.23239367e+01,\n",
       "       2.05692285e+01, 1.20095634e+01, 3.51940211e+01, 1.95132128e+00,\n",
       "       3.13616901e+02, 1.68833767e+01, 1.10212349e+01, 2.44568735e+01,\n",
       "       1.16353815e+01, 5.47787821e+01, 1.67520790e+01, 4.05034369e+01,\n",
       "       2.42152789e+01, 5.97902042e+01, 4.06565072e+01, 2.29819617e+01,\n",
       "       7.82719430e+00, 8.63786635e+01, 4.09549829e+01, 2.54195206e+00,\n",
       "       4.14301124e+00, 1.69166220e+01, 5.05072067e+01, 2.82583507e+01,\n",
       "       2.08174905e+00, 1.05508220e+01, 1.30891820e+02, 2.06486221e+01,\n",
       "       2.59265140e+01, 8.16475562e+00, 2.42042680e+01, 8.92836996e+01,\n",
       "       1.92740695e+01, 9.43145212e+00, 2.21912250e+01, 5.45012641e+00,\n",
       "       1.11233490e+01, 7.54773783e+00, 4.74693541e+00, 6.64209369e+01,\n",
       "       5.18150265e+00, 2.34979923e+01, 6.80809004e+00, 5.05115472e+01,\n",
       "       2.65540388e+01, 9.36235717e+00, 1.14229167e+01, 5.80855269e+01,\n",
       "       1.00887841e+02, 1.07714162e+01, 2.00909211e+01, 1.14013276e+01,\n",
       "       3.16242258e+00, 9.91138231e+00, 2.64516908e+01, 7.84132923e+00,\n",
       "       3.26760514e+00, 6.30648620e+00, 2.93472759e+01, 1.00873300e+01,\n",
       "       1.63001576e+01, 7.43777232e+00, 4.48995293e+01, 1.64403833e+01,\n",
       "       2.47929376e+01, 6.49665689e+01, 1.83941884e+01, 1.50267999e+01,\n",
       "       1.48277088e+01, 8.98083038e+00, 1.54580206e+01, 4.60071072e+01,\n",
       "       2.36933775e+01, 2.00195670e+01, 1.27751494e+02, 1.46437339e+01,\n",
       "       6.69416195e+01, 1.11455177e+01, 1.07157490e+01, 1.82545648e+02,\n",
       "       3.68867103e+01, 1.35098927e+01, 1.19650625e+01, 1.93964960e+01,\n",
       "       7.52227494e+01, 2.04883412e+01, 1.29083704e+01, 1.20202683e+01,\n",
       "       5.19097413e+00, 3.39984524e+01, 1.87079860e+00, 4.58355748e+01,\n",
       "       4.54254197e+01, 8.66569730e+00, 4.43713995e+01, 2.37527191e+01,\n",
       "       5.87888573e+00, 5.80692560e+00, 3.80148899e+01, 6.30604279e+01,\n",
       "       1.33658644e+02, 1.36757441e+02, 5.75573300e+00, 2.62555769e+02,\n",
       "       1.77446811e+01, 2.34043322e+01, 5.63998904e+01, 1.36677809e+01,\n",
       "       3.41554927e+01, 2.30283063e+01, 5.99861628e+01, 1.90985023e+01,\n",
       "       9.16707558e+00, 1.44045795e+00, 7.68276762e+01, 1.00107338e+01,\n",
       "       4.46672271e+01, 1.23527244e+01, 1.16273153e+01, 1.13542883e+01,\n",
       "       6.81503329e+01, 1.54706971e+01, 1.15550927e+01, 3.52335124e+00,\n",
       "       1.70465820e+01, 4.27915958e+01, 7.47038270e+00, 2.63767953e+01,\n",
       "       3.62396881e+00, 1.32344675e+01, 8.12715734e+00, 2.91743551e+01,\n",
       "       1.40191735e+01, 4.42434036e+00, 8.32442490e+00, 2.08618960e+01,\n",
       "       4.05049597e+00, 1.32888715e+02, 3.32504759e+01, 9.16144087e+01,\n",
       "       1.10283504e+01, 1.21531040e+01, 5.39863555e+00, 7.27766865e+01,\n",
       "       1.36533335e+01, 1.04280342e+01, 7.33404957e+01, 5.10714945e+01,\n",
       "       2.33525996e+01, 4.29769995e+01, 7.20496561e+00, 1.97324975e+01,\n",
       "       3.54651621e+00, 2.42242411e+01, 6.58559199e+01, 1.04098160e+01,\n",
       "       1.45535919e+01, 2.54484928e+01, 3.71320434e+00, 8.16092353e+00,\n",
       "       3.18936758e+01, 1.18927830e+01, 3.14081637e+01, 1.26030872e+02,\n",
       "       1.74794589e+01, 1.58366221e+01, 3.17865950e+01, 8.61333997e+00,\n",
       "       1.36400637e+01, 1.43425777e+01, 2.85075108e+01, 2.56463961e+01,\n",
       "       3.16464525e+00, 4.94567003e+00, 3.84603938e+01, 6.63843456e+00,\n",
       "       2.47669060e+01, 2.03309340e+01, 3.06519046e+01, 9.37539158e+01,\n",
       "       1.01230878e+01, 2.48390524e+01, 1.15778911e+01, 9.96896875e+01,\n",
       "       2.27852272e+01, 1.54683644e+01, 1.24342336e+01, 2.37454949e+01,\n",
       "       1.87228520e+01, 2.39053757e+01, 9.57795665e+00, 4.63575581e+01,\n",
       "       9.70785157e+01, 1.82523096e+01, 1.64993612e+01, 4.74990472e+01,\n",
       "       1.55505222e+01, 1.31425570e+00, 1.13658192e+01, 1.72557870e+01,\n",
       "       7.45366904e+00, 2.39487832e+01, 1.22491913e+01, 4.44919333e+00,\n",
       "       3.37147412e+01, 9.40999338e+00, 4.73665791e+01, 2.14159427e+01,\n",
       "       2.87040986e+01, 3.63831254e+01, 6.44589238e+00, 1.25691903e+01,\n",
       "       4.30609601e+01, 1.77725432e+01, 4.75090926e+01, 7.32487083e+01,\n",
       "       1.60375882e+01, 1.10085263e+01, 2.11185827e+01, 1.09118699e+01,\n",
       "       2.84625413e+01, 4.01645252e+00, 1.32959340e+01, 2.74934440e+01,\n",
       "       1.21704135e+01, 5.15691672e+01, 2.17747676e+01, 2.87679617e+01,\n",
       "       1.31654238e+01, 3.00432134e+01, 5.31731093e+01, 3.29852477e+01,\n",
       "       8.14278914e+00, 3.61691991e+01, 1.21230038e+01, 3.17230894e+01,\n",
       "       2.14327470e+01, 1.08536503e+02, 8.33300329e+00, 2.23212020e+01,\n",
       "       2.93386900e+01, 9.02437157e+01, 4.54771605e+01, 1.56309168e+02,\n",
       "       4.32505491e+00, 7.90860422e+00, 9.54011040e+00, 2.07801039e+01,\n",
       "       2.06825094e+01, 3.80293076e+01, 3.99417767e+01, 2.54668150e+01,\n",
       "       1.28428863e+01, 2.78905790e+01, 4.26043692e+00, 3.20156384e+01,\n",
       "       1.12251008e+01, 2.18842027e+02, 1.13392912e+02, 1.40020055e+01,\n",
       "       5.58443219e+00, 2.08610931e+01, 1.44475044e+02, 7.03517224e+01,\n",
       "       3.49970265e+02, 1.56506890e+02, 2.70155908e+01, 3.05352939e+01,\n",
       "       2.62193225e+01, 3.02930466e+01, 1.09887755e+02, 5.66791032e+01,\n",
       "       9.94778594e+01, 1.00721618e+02, 9.39206991e+00, 9.01219538e+00,\n",
       "       2.83958959e+01, 5.89571192e+00, 1.84126951e+02, 4.32849457e+01,\n",
       "       6.66115368e+00, 3.99912527e+01, 1.27251883e+01, 3.10461107e+01,\n",
       "       2.49413430e+01, 2.22813286e+00, 2.33863328e+01, 4.29037506e+00,\n",
       "       3.60361216e+01, 2.19400232e+01, 5.58578825e+00, 2.39452971e+01,\n",
       "       4.31973831e+00, 7.35251446e+01, 6.65592698e+01, 7.78050712e+00,\n",
       "       3.83970321e+01, 2.75207863e+01, 1.19691449e+01, 5.77348082e+01,\n",
       "       4.59633943e+01, 1.13951661e+01, 8.15187609e+00, 1.91286495e+02,\n",
       "       3.37269761e+01, 6.62221739e+00, 1.74882144e+01, 4.98989856e+01,\n",
       "       8.97670711e+00, 1.09414998e+01, 1.07285956e+01, 5.70751906e+00,\n",
       "       1.39219902e+01, 3.04985568e+01, 4.36838119e+01, 3.54041840e+01,\n",
       "       1.36959574e+01, 6.97948019e+00, 3.58233608e+01, 4.22577265e+00,\n",
       "       1.50624477e+02, 1.27765441e+01, 4.37865404e+01, 3.17067985e+01,\n",
       "       2.09276072e+01, 4.12793083e+01, 5.56976804e+01, 6.14800315e+01,\n",
       "       5.12293312e+00, 5.86095218e+00, 2.69908572e+01, 1.90693838e+01,\n",
       "       1.87467595e+01, 2.43994109e+02, 1.72317866e+01, 9.80499616e+01,\n",
       "       1.78776104e+01, 4.51668611e+01, 1.29526395e+01, 1.10647910e+01,\n",
       "       1.05853091e+01, 1.28616580e+01, 1.65771604e+01, 2.74219103e+00,\n",
       "       1.53449557e+00, 7.80819855e+00, 8.64308375e+00, 4.64728679e+00,\n",
       "       5.76232193e+01, 9.16735108e+00, 1.57579685e+01, 3.04788706e+01,\n",
       "       6.86361451e+00, 2.64135467e+01, 7.39294020e+00, 4.29657647e+01,\n",
       "       4.16439258e+01, 1.04175676e+01, 2.74124548e+01, 1.14764159e+01,\n",
       "       1.25958654e+01, 2.04884774e+01, 5.00224930e+00, 1.01860953e+02,\n",
       "       4.53651470e+00, 7.21871340e+01, 4.25336288e+00, 2.87935700e+01,\n",
       "       2.23116655e+01, 4.09311138e+00, 1.10290134e+01, 1.11615194e+01,\n",
       "       1.12312309e+01, 4.33249998e+00, 2.83367769e+00, 6.33192220e+00,\n",
       "       1.44717173e+02, 3.62251930e+01, 1.17216760e+01, 2.47255431e+01,\n",
       "       1.44861121e+01, 4.33635806e+01, 8.25616290e+00, 2.21900124e+01,\n",
       "       1.46052720e+01, 2.19965544e+01, 1.50961500e+01, 1.46950063e+01,\n",
       "       2.05157258e+01, 1.57500783e+01, 9.37111634e+00, 1.96247022e+01,\n",
       "       6.57377015e+01, 1.49218590e+01, 2.03855361e+01, 1.74760848e+01,\n",
       "       9.86070362e+00, 4.48454740e+01, 3.21698574e+00, 7.18294019e+00,\n",
       "       6.01443407e+00, 4.24198588e+01, 8.33348284e+00, 1.29001690e+01,\n",
       "       1.29815976e+01, 1.22020266e+01, 4.94516832e+00, 1.32037991e+01,\n",
       "       9.07473320e+00, 2.69951466e+00, 2.47907244e+01, 4.42057588e+00,\n",
       "       7.94015292e+01, 8.01396220e+00, 2.46623158e+01, 1.87787687e+01,\n",
       "       1.73200414e+01, 3.65689173e+01, 7.74546145e+00, 1.93706420e+02,\n",
       "       8.51344892e+01, 4.75480266e+01, 6.08604956e+01, 7.19141659e+00,\n",
       "       4.36576162e+01, 3.96508506e+02, 4.61302710e+00, 2.43876632e+01,\n",
       "       1.94450569e+01, 7.90346617e+00, 2.36054864e+00, 1.27704226e+01,\n",
       "       7.64760174e+01, 7.56428124e+01, 2.06196348e+01, 1.43733836e+01,\n",
       "       1.37306863e+01, 7.13468163e+01, 1.64570617e+00, 2.64206149e+01,\n",
       "       1.91476403e+01, 5.23707666e+01, 3.70125197e+01, 1.44529794e+02,\n",
       "       7.26455561e+00, 2.02243782e+02, 1.74248083e+01, 1.35488703e+01,\n",
       "       2.57320459e+01, 5.86646103e+00, 1.00606361e+01, 4.01547634e+00,\n",
       "       2.59794934e+01, 8.63158019e+00, 3.84517360e+00, 2.63327700e+00,\n",
       "       1.75942454e+01, 7.39744613e+01, 5.50613409e+01, 2.06157755e+01,\n",
       "       2.27703557e+01, 9.65757002e+00, 5.53907435e+01, 2.40364186e+01,\n",
       "       1.21951759e+01, 1.98702713e+01, 4.94696249e+01, 2.62146624e+01,\n",
       "       2.11373787e+01, 1.78521473e+01, 2.76312708e+01, 7.95624473e+00,\n",
       "       5.25285010e+01, 6.47483641e+00, 3.74299720e+00, 4.98505382e+00,\n",
       "       6.01284232e+00, 1.61147044e+01, 9.44386382e+00, 4.47737167e+01,\n",
       "       3.24385752e+01, 8.99599837e+01, 3.57807671e+01, 1.25598585e+01,\n",
       "       4.77526015e+00, 5.94905335e+00, 4.20253230e+00, 1.44808176e+01,\n",
       "       3.38752471e+00, 4.23938735e+01, 3.71627812e+00, 9.57660925e+00,\n",
       "       5.69572559e+01, 5.87086847e+00, 9.77676534e+00, 1.24365759e+01,\n",
       "       3.87305351e+01, 1.69350076e+01, 5.52670146e+01, 7.89170423e+00,\n",
       "       2.94812998e+02, 1.10915361e+02, 5.79168237e+01, 3.56551886e+01,\n",
       "       5.74575838e+00, 2.99558064e+01, 5.17437756e+02, 5.20630207e+00,\n",
       "       1.30392345e+01, 1.59879615e+01, 1.15936409e+01, 4.75514934e+01,\n",
       "       5.27547142e+00, 8.36447197e+00, 4.10007059e+01, 1.65687030e+01,\n",
       "       9.17554622e+00, 2.65572781e+01, 7.43602097e+01, 4.45581206e+01,\n",
       "       6.14247253e+00, 2.59761106e+01, 2.40877076e+01, 1.08421797e+01,\n",
       "       1.18094801e+01, 9.83413708e+00, 2.25036268e+01, 9.65504926e+00,\n",
       "       2.87931289e+01, 7.76629547e+00, 3.94951332e+01, 4.39278387e+00,\n",
       "       7.20403247e+00, 3.61646468e+01, 1.50202644e+01, 1.37553913e+01,\n",
       "       1.40987158e+01, 1.54163277e+02, 1.09451935e+02, 5.71232541e+01,\n",
       "       1.34554266e+01, 6.90352200e+00, 5.03426907e+01, 7.96105186e+01,\n",
       "       1.63844576e+01, 2.04188247e+01, 5.82991156e+00, 4.24406015e+01,\n",
       "       2.60745992e+00, 3.52131980e+00, 1.59676792e+01, 3.49823637e+00,\n",
       "       6.76665984e+00, 1.60614986e+01, 2.90178032e+01, 6.33817774e+01,\n",
       "       2.36057178e+01, 1.19370333e+01, 1.06686651e+01, 1.97703102e+01,\n",
       "       3.30937950e+01, 9.23513633e+01, 1.49493669e+01, 2.48721513e+01,\n",
       "       9.14493845e+01, 2.23195997e+01, 4.58496115e+01, 4.49075296e+01,\n",
       "       1.76909997e+01, 6.09565585e+01, 4.09886563e+01, 1.45327777e+01,\n",
       "       1.15122136e+02, 2.92897215e+00, 2.06428148e+01, 5.66910254e+01,\n",
       "       1.36686612e+02, 5.80238058e+01, 4.04878183e+01, 1.18832815e+01,\n",
       "       5.17011288e+00, 3.29063699e+01, 2.72781806e+01, 3.05284736e+01,\n",
       "       1.90449017e+01, 2.61804035e+00, 5.86372758e+01, 6.98150951e+01,\n",
       "       6.65478382e+00, 2.88529433e+01, 1.30549793e+01, 6.92111138e+01,\n",
       "       1.64222616e+01, 4.83103179e+01, 4.16513459e+01, 2.37311903e+01,\n",
       "       2.07588611e+01, 1.41203194e+01, 2.39388094e+01, 1.67596091e+01,\n",
       "       4.65719493e+00, 2.21076505e+00, 7.34477566e+00, 1.40646832e+01,\n",
       "       2.49586482e+01, 8.39489321e+00, 1.23546297e+01, 6.79758068e+00,\n",
       "       3.34333761e+01, 7.01475711e+00, 5.14643884e+00, 5.28848126e+01,\n",
       "       4.11918931e+01, 3.08134435e+01, 2.41296889e+01, 3.18490933e+01,\n",
       "       1.05670440e+01, 8.96338536e+00, 7.68669280e+00, 1.46995016e+01,\n",
       "       7.48159313e+00, 1.61278430e+02, 5.56740704e+01, 6.53444707e+01,\n",
       "       1.07126917e+01, 1.81823142e+01, 1.09024237e+01, 4.00614268e+01,\n",
       "       2.72940310e+01, 6.04992123e+00, 1.83104240e+01, 5.38553857e+00,\n",
       "       8.14019118e+00, 1.51955350e+02, 3.35828500e+01, 1.01289253e+01,\n",
       "       1.52226220e+01, 9.20683228e+00, 1.05165844e+02, 3.61338039e+01,\n",
       "       2.66052220e+01, 3.60772010e+01, 9.88669153e+00, 7.30569954e+01,\n",
       "       1.90258954e+01, 5.72010877e+00, 1.93631876e+01, 4.98658753e+01,\n",
       "       2.75611513e+01, 6.76914287e+01, 1.11618588e+02, 1.63254163e+01,\n",
       "       8.23419893e+01, 1.40562813e+01, 5.53336368e+01, 5.60776252e+01,\n",
       "       8.43433694e+00, 2.56039347e+01, 2.26633679e+00, 3.67115452e+01,\n",
       "       2.43919973e+02, 3.42128817e+01, 5.95336674e+00, 5.97164251e+00,\n",
       "       1.70468311e+02, 7.43617425e+01, 3.09294449e+01, 6.51964266e+00,\n",
       "       2.23912017e+02, 7.52467892e+00, 7.96286123e+00, 2.37250759e+01,\n",
       "       4.03696060e+01, 4.33131565e+01, 8.23218164e+00, 4.67961670e+01,\n",
       "       1.10580071e+02, 2.92282064e+00, 3.49924559e+01, 1.72087588e+01,\n",
       "       7.10060435e+00, 9.38097732e+00, 1.26449319e+01, 7.09909539e+01,\n",
       "       1.06266953e+01, 4.76590771e+01, 1.71996461e+01, 9.86858915e+00,\n",
       "       1.86292939e+01, 1.66649575e+01, 1.64937978e+01, 8.12894227e+00,\n",
       "       8.67500955e+00, 5.64335124e+00, 1.37809264e+01, 1.23654876e+01,\n",
       "       9.19602077e+00, 3.25883486e+01, 5.12126228e+01, 3.29347061e+01,\n",
       "       6.18419915e+00, 1.32343126e+00, 6.82573631e+01, 3.33904465e+01,\n",
       "       2.88822981e+01, 1.08172770e+01, 1.35751954e+01, 8.01462358e+00,\n",
       "       9.45841178e+00, 9.02146831e+01, 5.07205946e+00, 1.71632079e+01,\n",
       "       1.60241533e+01, 6.02980271e+00, 1.19575822e+01, 8.04164062e+01,\n",
       "       1.00127586e+01, 1.55446500e+01, 1.26761761e+02, 1.30287189e+01,\n",
       "       4.90411318e+01, 8.17324216e+00, 1.31647040e+02, 5.44939792e+00,\n",
       "       2.81899024e+01, 4.18806025e-01, 2.18857269e+01, 5.36971268e+00,\n",
       "       5.12185134e+00, 1.59005694e+01, 6.30003944e+00, 3.25340749e+00,\n",
       "       3.64042891e+01, 1.16121808e+01, 2.05867759e+01, 4.31419982e+01,\n",
       "       3.69594785e+01, 2.16329228e+01, 2.07834908e+01, 4.42797907e+01,\n",
       "       5.25382616e+01, 4.21927623e+01, 2.11795398e+01, 5.52295854e+00,\n",
       "       1.01912900e+01, 8.89012732e+00, 1.25481037e+01, 1.68060396e+01,\n",
       "       1.18478910e+02, 7.62402510e+00, 3.06821798e+01, 1.31403661e+02,\n",
       "       2.99441719e+01, 5.28785600e+00, 1.08671857e+01, 5.50300735e+01,\n",
       "       7.35434456e+00, 3.21694281e+00, 3.44415766e+01, 2.14796444e+01,\n",
       "       1.73630213e+01, 1.59984783e+01, 1.41122670e+01, 1.00139907e+01,\n",
       "       1.39437667e+01, 3.40923059e+01, 5.38092662e+02, 3.17031017e+01,\n",
       "       2.66068351e+01, 1.35769105e+02, 3.43801910e+01, 1.05733052e+01,\n",
       "       4.77749253e+00, 4.39948263e+01, 3.31257053e+01, 5.97208899e+00,\n",
       "       2.01281928e+01, 5.28699984e+00, 1.75801701e+01, 6.22459815e+01,\n",
       "       5.09895335e+01, 9.73323116e+01, 1.72956938e+01, 4.57991004e+01,\n",
       "       2.36095700e+01, 4.65185131e+01, 1.54010907e+01, 2.57596314e+01,\n",
       "       3.77586855e+01, 1.53047414e+01, 3.92148785e+00, 4.38319706e+00,\n",
       "       5.85627188e+01, 2.58115875e+01, 3.91396939e+00, 2.55371216e+01,\n",
       "       9.37806635e+00, 7.54859459e+01, 2.14079597e+01, 1.79423627e+01,\n",
       "       1.16468061e+01, 1.63278805e+01, 1.22867388e+01, 1.83865945e+01,\n",
       "       3.09712356e+00, 7.23039911e+00, 8.35153858e+01, 8.11765158e+00,\n",
       "       1.20498780e+02, 3.46663457e+00, 1.77964907e+01, 3.72104279e+01,\n",
       "       3.37738761e+01, 1.04423062e+01, 2.09098732e+01, 1.29203111e+00,\n",
       "       2.21975770e+02, 3.40358645e+01, 6.19363121e+01, 1.50562334e+01,\n",
       "       7.46599379e+00, 1.22526194e+02, 2.01936937e+01, 1.63444223e+01,\n",
       "       3.50307433e+01, 2.42574820e+01, 5.71067604e+00, 1.69421446e+01,\n",
       "       3.51947745e+01, 3.65358095e+01, 8.56239549e+01, 3.34787018e+01,\n",
       "       3.09205617e+01, 3.16654829e+01, 1.77930917e+01, 9.10986639e+00,\n",
       "       1.41452292e+01, 3.19546371e+01, 2.30367806e+01, 2.21564396e+01,\n",
       "       1.03113657e+02, 5.30629152e+01, 6.29564923e+00, 1.78707032e+01,\n",
       "       2.07977084e+01, 3.10967650e+01, 1.76560067e+01, 3.67220533e+00,\n",
       "       1.18854683e+01, 4.59525431e+01, 5.30810415e+00, 3.69170404e+01])"
      ]
     },
     "execution_count": 26,
     "metadata": {},
     "output_type": "execute_result"
    }
   ],
   "source": [
    "lognormal_distrubuted_data"
   ]
  },
  {
   "cell_type": "code",
   "execution_count": 27,
   "id": "a17e210f",
   "metadata": {},
   "outputs": [
    {
     "data": {
      "text/plain": [
       "<AxesSubplot:ylabel='Count'>"
      ]
     },
     "execution_count": 27,
     "metadata": {},
     "output_type": "execute_result"
    },
    {
     "data": {
      "image/png": "[encoded data removed]",
      "text/plain": [
       "<Figure size 432x288 with 1 Axes>"
      ]
     },
     "metadata": {
      "needs_background": "light"
     },
     "output_type": "display_data"
    }
   ],
   "source": [
    "sns.histplot(lognormal_distrubuted_data,kde=True)\n",
    "\n",
    "\n",
    "#so to convert it to normal distributiom take log of it\n",
    "\n",
    "#if we have outliers then take log distribution, \n",
    "#so we can convert right skewed data into normal distribution"
   ]
  },
  {
   "cell_type": "code",
   "execution_count": 30,
   "id": "187c6ec5",
   "metadata": {},
   "outputs": [
    {
     "data": {
      "text/plain": [
       "<AxesSubplot:ylabel='Count'>"
      ]
     },
     "execution_count": 30,
     "metadata": {},
     "output_type": "execute_result"
    },
    {
     "data": {
      "image/png": "[encoded data removed]",
      "text/plain": [
       "<Figure size 432x288 with 1 Axes>"
      ]
     },
     "metadata": {
      "needs_background": "light"
     },
     "output_type": "display_data"
    }
   ],
   "source": [
    "sns.histplot(np.log(lognormal_distrubuted_data),kde=True)"
   ]
  },
  {
   "cell_type": "code",
   "execution_count": 34,
   "id": "00ef439b",
   "metadata": {},
   "outputs": [],
   "source": [
    "import matplotlib.pyplot as plt\n",
    "import scipy.stats as stat\n",
    "import pylab\n",
    "\n",
    "def plot_data(data):\n",
    "    plt.figure(figsize=(10,6))\n",
    "    plt.subplot(1,2,1)               #1 row, 2 column, 1st quadrant\n",
    "    sns.histplot(data,kde=True)\n",
    "    \n",
    "    plt.subplot(1,2,2)\n",
    "    stat.probplot(data,dist='norm',plot=pylab)\n",
    "    plt.show()"
   ]
  },
  {
   "cell_type": "code",
   "execution_count": 35,
   "id": "359ad71e",
   "metadata": {},
   "outputs": [
    {
     "data": {
      "image/png": "[encoded data removed]",
      "text/plain": [
       "<Figure size 720x432 with 2 Axes>"
      ]
     },
     "metadata": {
      "needs_background": "light"
     },
     "output_type": "display_data"
    }
   ],
   "source": [
    "plot_data(lognormal_distrubuted_data)"
   ]
  },
  {
   "cell_type": "code",
   "execution_count": null,
   "id": "33a1fb7a",
   "metadata": {},
   "outputs": [],
   "source": [
    "#Q-Q PLOT IS BETWEEN THEROTICAL AND REAL TIME RESULTS"
   ]
  },
  {
   "cell_type": "code",
   "execution_count": null,
   "id": "36f7dc0a",
   "metadata": {},
   "outputs": [],
   "source": []
  },
  {
   "cell_type": "code",
   "execution_count": null,
   "id": "966ad50c",
   "metadata": {},
   "outputs": [],
   "source": [
    "#PROBABILITY DISTRIBUTION FUNCTION\n",
    "\n",
    "PMF\n",
    "-UNIFORM\n",
    "-BERNOULLI\n",
    "-BINOMIAL\n",
    "-POSSION\n",
    "\n",
    "\n",
    "PDF\n",
    "-UNIFORM\n",
    "-NORMAL\n",
    "-LOGNORMAL\n",
    "-POWER LAW\n",
    "-PARETO"
   ]
  },
  {
   "cell_type": "code",
   "execution_count": 37,
   "id": "eed06dc6",
   "metadata": {},
   "outputs": [
    {
     "data": {
      "text/plain": [
       "array([4.71062486e-02, 5.41175766e-01, 7.91638963e-01, 1.53780679e-01,\n",
       "       5.63906212e-01, 7.82041416e-01, 4.50805730e-01, 1.69977245e-01,\n",
       "       8.21936220e-01, 2.52064741e-01, 2.45775428e-02, 7.91707714e-01,\n",
       "       4.58985084e-01, 3.60022147e-01, 2.64177456e-01, 5.81041844e-01,\n",
       "       7.86365035e-03, 6.90824734e-01, 5.90243799e-01, 8.64382851e-01,\n",
       "       8.57979791e-01, 6.29644863e-01, 7.07043709e-01, 5.70991963e-02,\n",
       "       8.16621898e-02, 2.44119186e-01, 4.18066089e-01, 7.92835867e-01,\n",
       "       1.18974134e-01, 1.48956383e-01, 3.44770652e-01, 3.58976985e-01,\n",
       "       3.35727494e-02, 6.52176224e-01, 5.64087708e-01, 5.59496784e-01,\n",
       "       1.36871176e-01, 2.73882900e-02, 8.98397540e-01, 9.84880441e-01,\n",
       "       9.72288593e-01, 9.46221966e-01, 7.67056710e-01, 7.03305722e-01,\n",
       "       1.27797749e-01, 3.68025046e-01, 1.39651160e-01, 5.52795201e-01,\n",
       "       5.77738648e-01, 3.68677809e-01, 1.13463169e-01, 1.33002016e-01,\n",
       "       7.74738201e-01, 1.87258698e-01, 6.90714143e-02, 3.11722529e-01,\n",
       "       4.41549395e-01, 9.12616996e-01, 6.75254691e-01, 3.05578209e-01,\n",
       "       7.47176684e-01, 2.52132703e-01, 2.78755574e-01, 6.74488970e-01,\n",
       "       8.54858716e-01, 5.77312546e-01, 2.55863749e-02, 9.83035382e-01,\n",
       "       7.15037506e-01, 5.27697830e-01, 7.79226501e-01, 6.29568607e-02,\n",
       "       2.05113838e-01, 1.80079420e-01, 3.93279902e-01, 3.43344617e-01,\n",
       "       2.91038873e-01, 3.20899311e-02, 7.93146249e-01, 9.48457826e-01,\n",
       "       5.87483191e-02, 5.93323416e-01, 3.18952006e-01, 1.43893073e-01,\n",
       "       1.73672888e-01, 1.42251266e-01, 3.29666958e-01, 9.57592074e-01,\n",
       "       9.94329645e-01, 9.09779938e-01, 3.95494392e-03, 6.77524355e-01,\n",
       "       1.98434528e-01, 8.62187618e-01, 7.56981278e-01, 6.19017866e-01,\n",
       "       9.69394549e-01, 3.33216692e-01, 5.06329231e-01, 9.95921561e-01,\n",
       "       2.40355621e-01, 1.92560305e-01, 9.99138964e-01, 4.57559808e-01,\n",
       "       8.98496111e-02, 1.09786590e-01, 1.00030774e-01, 6.51116892e-01,\n",
       "       1.05287253e-01, 8.10118890e-01, 5.48134492e-01, 4.23345202e-01,\n",
       "       9.89776819e-01, 1.19019528e-01, 9.52243447e-01, 1.92227189e-01,\n",
       "       4.11211787e-01, 4.07087309e-01, 5.85465002e-02, 7.47520487e-01,\n",
       "       7.45919363e-01, 5.74929276e-01, 9.44794319e-01, 8.54270486e-02,\n",
       "       4.47683964e-01, 3.31049617e-01, 9.84377661e-01, 9.54257617e-01,\n",
       "       1.60604266e-01, 8.48135514e-01, 1.46019728e-02, 7.85743088e-01,\n",
       "       9.24717297e-01, 8.67331904e-01, 3.14302550e-01, 1.32517416e-01,\n",
       "       7.08387055e-03, 9.35081516e-01, 2.96358179e-02, 6.66012520e-01,\n",
       "       7.95426907e-01, 1.09130190e-01, 7.53808324e-01, 1.45660583e-01,\n",
       "       2.54706896e-01, 1.22468726e-01, 7.70288412e-01, 5.89156329e-01,\n",
       "       6.28419351e-01, 2.92604480e-01, 5.26269922e-01, 1.61575713e-01,\n",
       "       5.05195468e-01, 8.78653499e-01, 6.41802590e-01, 3.00727717e-01,\n",
       "       9.29337776e-01, 4.42131437e-01, 4.33592074e-01, 9.06701757e-02,\n",
       "       4.57295296e-02, 6.67508359e-01, 7.11575540e-01, 9.95591277e-01,\n",
       "       4.77853137e-01, 9.30896944e-01, 4.85189743e-01, 4.46213314e-01,\n",
       "       2.90696367e-02, 2.24869901e-01, 2.47672189e-01, 8.26347473e-01,\n",
       "       7.88122073e-01, 7.97721653e-01, 7.22806723e-02, 1.35427169e-01,\n",
       "       3.17331917e-01, 3.07482400e-01, 4.96413554e-01, 5.28156767e-01,\n",
       "       8.12792510e-02, 2.79324735e-01, 9.69842456e-02, 4.85215028e-01,\n",
       "       4.88492457e-01, 3.81873455e-01, 2.36497067e-02, 6.17027821e-01,\n",
       "       4.88700497e-01, 8.86807359e-01, 5.68903532e-01, 1.40495942e-01,\n",
       "       1.94173715e-01, 8.25202520e-01, 1.10737190e-01, 1.48738106e-01,\n",
       "       8.34444535e-01, 7.42513519e-01, 6.53662010e-02, 9.94050144e-01,\n",
       "       5.74896425e-01, 4.05797705e-01, 1.92308958e-01, 1.47418903e-01,\n",
       "       3.47937370e-01, 5.98856759e-01, 1.00303872e-01, 2.59036634e-01,\n",
       "       9.28226945e-01, 9.88622327e-02, 6.53267520e-01, 5.09716474e-01,\n",
       "       9.12052358e-01, 8.78091723e-01, 5.95234764e-01, 7.11330619e-01,\n",
       "       5.05557091e-02, 4.62251451e-01, 7.38184692e-02, 9.21705865e-01,\n",
       "       4.00383543e-01, 1.73867175e-01, 9.34888264e-01, 8.50796687e-01,\n",
       "       8.72251230e-01, 7.94019129e-02, 1.99674527e-02, 4.79830666e-01,\n",
       "       8.55836734e-01, 4.18819570e-01, 1.41357113e-01, 1.09470713e-01,\n",
       "       5.52871255e-01, 2.79772216e-01, 2.63842747e-01, 8.77151757e-01,\n",
       "       9.17640767e-01, 2.95235310e-02, 1.00292334e-01, 1.87452437e-02,\n",
       "       7.75640693e-01, 7.82493878e-01, 1.95746434e-01, 2.17827343e-01,\n",
       "       2.22077421e-01, 4.66640232e-01, 3.09390301e-01, 4.04048015e-02,\n",
       "       9.62347362e-01, 7.50843701e-01, 8.24360324e-01, 1.37599986e-01,\n",
       "       9.80464104e-01, 4.43137045e-01, 1.70167254e-01, 1.69525402e-03,\n",
       "       5.50662345e-01, 2.23371084e-01, 9.57935947e-01, 4.93806552e-01,\n",
       "       2.17727390e-01, 7.44128414e-01, 9.49123299e-01, 4.33540865e-01,\n",
       "       7.39193616e-01, 9.61861077e-01, 1.24810660e-01, 5.36696670e-01,\n",
       "       8.95145327e-01, 7.64792940e-01, 9.94045917e-01, 9.63440349e-01,\n",
       "       8.00673148e-01, 7.99965089e-01, 8.51707880e-01, 4.15308454e-01,\n",
       "       8.86782791e-01, 4.66214067e-01, 6.03832706e-01, 4.13275654e-01,\n",
       "       5.32453179e-01, 8.97717117e-01, 5.82458699e-01, 8.05421258e-01,\n",
       "       1.27170280e-01, 5.83463665e-01, 6.88880004e-01, 4.07368129e-01,\n",
       "       5.26320983e-01, 7.76732627e-01, 9.50391182e-01, 9.69879773e-02,\n",
       "       1.99025419e-02, 8.80705736e-01, 9.97807471e-01, 4.66214301e-01,\n",
       "       4.95662945e-01, 8.67804257e-01, 4.59117998e-01, 7.52150292e-01,\n",
       "       8.86447260e-01, 2.24019143e-02, 3.06538146e-01, 1.15162715e-01,\n",
       "       9.72753071e-01, 6.34620787e-01, 4.28304634e-01, 5.07134340e-01,\n",
       "       8.51531781e-02, 6.69630884e-01, 6.05003091e-01, 2.37971145e-01,\n",
       "       8.56788483e-01, 6.65608788e-01, 5.90966203e-02, 9.06640600e-01,\n",
       "       1.26989058e-01, 2.59633829e-01, 3.94199304e-01, 8.05896053e-01,\n",
       "       8.45531278e-01, 2.90246161e-01, 5.12073620e-01, 5.29842185e-01,\n",
       "       3.25367318e-01, 9.81804107e-01, 1.10958713e-01, 8.68382268e-01,\n",
       "       2.67806773e-02, 6.40291107e-01, 8.32996660e-01, 2.65057362e-01,\n",
       "       4.45553812e-01, 7.73625330e-01, 6.75319446e-01, 8.92956753e-01,\n",
       "       4.86904488e-01, 3.79273735e-01, 6.61959041e-01, 8.96579783e-01,\n",
       "       2.43819064e-01, 7.04880463e-01, 2.75936599e-01, 7.80826328e-01,\n",
       "       8.35904161e-01, 4.78527561e-01, 1.63772277e-02, 6.15496024e-01,\n",
       "       1.78176946e-01, 8.39254929e-01, 9.01017404e-01, 3.13013282e-01,\n",
       "       2.26441761e-01, 9.81624909e-01, 8.43069718e-01, 1.69196628e-01,\n",
       "       9.15443681e-01, 9.62163934e-01, 7.11406682e-01, 3.56474757e-01,\n",
       "       3.25425930e-01, 4.18426620e-01, 6.42465675e-01, 3.79869404e-01,\n",
       "       8.55184713e-01, 9.64492781e-01, 9.26392121e-01, 7.81654265e-02,\n",
       "       8.72291115e-01, 8.71868547e-01, 8.71766327e-01, 4.88782642e-01,\n",
       "       4.94912362e-01, 6.39418564e-01, 2.66298574e-02, 7.16936097e-01,\n",
       "       5.37320192e-01, 6.76918502e-01, 5.83512416e-01, 5.47990419e-01,\n",
       "       3.99243330e-02, 3.45225253e-01, 6.33442646e-01, 5.48134064e-01,\n",
       "       9.63883048e-01, 3.68839506e-01, 7.80852671e-01, 4.19852917e-01,\n",
       "       3.09614479e-01, 5.64113767e-01, 8.72855327e-01, 3.96751966e-01,\n",
       "       5.91211413e-01, 2.73867867e-01, 3.38861698e-01, 1.62890247e-01,\n",
       "       1.63972160e-01, 1.71790741e-01, 1.79839345e-01, 3.38629300e-01,\n",
       "       3.56612880e-01, 3.97095761e-01, 5.81051386e-01, 3.31833055e-01,\n",
       "       8.49479574e-01, 7.15550776e-01, 1.94343043e-01, 7.85154173e-01,\n",
       "       2.81536381e-01, 9.16930777e-01, 4.48657741e-01, 7.13303353e-01,\n",
       "       3.05383427e-01, 2.47543942e-01, 4.41909355e-01, 5.01936936e-01,\n",
       "       7.87179906e-01, 9.44760909e-01, 8.41804684e-01, 4.19226117e-01,\n",
       "       7.75006737e-02, 1.34681953e-01, 2.72817276e-01, 9.86592706e-01,\n",
       "       7.69414392e-01, 7.41248533e-01, 2.33280637e-01, 4.71231598e-01,\n",
       "       3.30744627e-02, 2.32582547e-01, 8.70796361e-03, 4.63422217e-01,\n",
       "       2.74506519e-01, 1.65503364e-01, 3.79683940e-01, 8.19061487e-01,\n",
       "       7.91911200e-05, 1.04959373e-01, 1.37791576e-01, 4.29712023e-01,\n",
       "       3.81753227e-01, 2.76436855e-01, 6.48567952e-01, 6.17139970e-01,\n",
       "       3.57326878e-01, 5.03092162e-01, 5.09000529e-01, 4.47271814e-01,\n",
       "       9.29127866e-01, 7.13095239e-01, 3.12515259e-01, 1.65969856e-01,\n",
       "       9.94303209e-01, 2.93775764e-01, 9.60084848e-01, 8.35242869e-01,\n",
       "       6.89886343e-01, 2.25196227e-01, 3.81258183e-01, 4.10134966e-01,\n",
       "       2.33642413e-01, 9.11666884e-01, 5.65758922e-01, 5.08160317e-01,\n",
       "       9.96754626e-01, 7.64188267e-01, 2.92809895e-01, 3.01625256e-01,\n",
       "       4.02937686e-01, 8.47848660e-01, 2.63116251e-01, 1.80233704e-01,\n",
       "       7.69453950e-01, 6.67635557e-01, 7.05046330e-01, 3.23831381e-01,\n",
       "       5.15390882e-01, 8.46251452e-01, 6.02711948e-01, 6.66537318e-01,\n",
       "       8.79255212e-01, 1.01394253e-01, 2.25478160e-01, 8.37244610e-01,\n",
       "       6.99323515e-01, 6.96333129e-01, 5.47594694e-02, 1.52201068e-02,\n",
       "       5.60097305e-02, 4.11323445e-01, 9.22324993e-01, 6.20471942e-01,\n",
       "       5.99113434e-01, 4.09939224e-01, 9.13405585e-01, 7.60420418e-01,\n",
       "       6.18303649e-01, 1.18914357e-01, 1.99261876e-01, 7.57975370e-01])"
      ]
     },
     "execution_count": 37,
     "metadata": {},
     "output_type": "execute_result"
    }
   ],
   "source": [
    "from numpy import random\n",
    "random.uniform(size=500) #continuous value"
   ]
  },
  {
   "cell_type": "code",
   "execution_count": 39,
   "id": "d71f96e0",
   "metadata": {},
   "outputs": [
    {
     "name": "stderr",
     "output_type": "stream",
     "text": [
      "C:\\Users\\91983\\anaconda3\\lib\\site-packages\\seaborn\\distributions.py:2619: FutureWarning: `distplot` is a deprecated function and will be removed in a future version. Please adapt your code to use either `displot` (a figure-level function with similar flexibility) or `kdeplot` (an axes-level function for kernel density plots).\n",
      "  warnings.warn(msg, FutureWarning)\n"
     ]
    },
    {
     "data": {
      "text/plain": [
       "<AxesSubplot:ylabel='Density'>"
      ]
     },
     "execution_count": 39,
     "metadata": {},
     "output_type": "execute_result"
    },
    {
     "data": {
      "image/png": "[encoded data removed]",
      "text/plain": [
       "<Figure size 432x288 with 1 Axes>"
      ]
     },
     "metadata": {
      "needs_background": "light"
     },
     "output_type": "display_data"
    }
   ],
   "source": [
    "sns.distplot(random.uniform(size=500),hist=False)"
   ]
  },
  {
   "cell_type": "code",
   "execution_count": 41,
   "id": "8b2b2c64",
   "metadata": {},
   "outputs": [
    {
     "data": {
      "text/plain": [
       "<AxesSubplot:ylabel='Count'>"
      ]
     },
     "execution_count": 41,
     "metadata": {},
     "output_type": "execute_result"
    },
    {
     "data": {
      "image/png": "[encoded data removed]",
      "text/plain": [
       "<Figure size 432x288 with 1 Axes>"
      ]
     },
     "metadata": {
      "needs_background": "light"
     },
     "output_type": "display_data"
    }
   ],
   "source": [
    "sns.histplot(np.random.randint(1,8,size=800))  \n",
    "#discrete values uniform dist"
   ]
  },
  {
   "cell_type": "code",
   "execution_count": null,
   "id": "a5f48d04",
   "metadata": {},
   "outputs": [],
   "source": []
  },
  {
   "cell_type": "code",
   "execution_count": 42,
   "id": "6110d477",
   "metadata": {},
   "outputs": [
    {
     "data": {
      "text/plain": [
       "<AxesSubplot:ylabel='Count'>"
      ]
     },
     "execution_count": 42,
     "metadata": {},
     "output_type": "execute_result"
    },
    {
     "data": {
      "image/png": "[encoded data removed]",
      "text/plain": [
       "<Figure size 432x288 with 1 Axes>"
      ]
     },
     "metadata": {
      "needs_background": "light"
     },
     "output_type": "display_data"
    }
   ],
   "source": [
    "#BERNOULLI\n",
    "sample_size=1000\n",
    "p=0.3\n",
    "bernoulli_data=np.random.choice([0,1],size=sample_size,p=[1-p,p])\n",
    "\n",
    "sns.histplot(bernoulli_data,bins=2,kde=False,color=\"blue\")"
   ]
  },
  {
   "cell_type": "code",
   "execution_count": null,
   "id": "dfc792c4",
   "metadata": {},
   "outputs": [],
   "source": []
  },
  {
   "cell_type": "code",
   "execution_count": 47,
   "id": "1696884a",
   "metadata": {},
   "outputs": [],
   "source": [
    "#BINOMIAL\n",
    "no_of_trials=10\n",
    "prob=0.6\n",
    "\n",
    "binomialData=np.random.binomial(no_of_trials,prob,10000)"
   ]
  },
  {
   "cell_type": "code",
   "execution_count": 48,
   "id": "c3a8e9c7",
   "metadata": {},
   "outputs": [
    {
     "name": "stderr",
     "output_type": "stream",
     "text": [
      "C:\\Users\\91983\\anaconda3\\lib\\site-packages\\seaborn\\distributions.py:2619: FutureWarning: `distplot` is a deprecated function and will be removed in a future version. Please adapt your code to use either `displot` (a figure-level function with similar flexibility) or `histplot` (an axes-level function for histograms).\n",
      "  warnings.warn(msg, FutureWarning)\n"
     ]
    },
    {
     "data": {
      "text/plain": [
       "<AxesSubplot:ylabel='Density'>"
      ]
     },
     "execution_count": 48,
     "metadata": {},
     "output_type": "execute_result"
    },
    {
     "data": {
      "image/png": "[encoded data removed]",
      "text/plain": [
       "<Figure size 432x288 with 1 Axes>"
      ]
     },
     "metadata": {
      "needs_background": "light"
     },
     "output_type": "display_data"
    }
   ],
   "source": [
    "sns.distplot(binomialData)"
   ]
  },
  {
   "cell_type": "code",
   "execution_count": null,
   "id": "f18c9065",
   "metadata": {},
   "outputs": [],
   "source": []
  },
  {
   "cell_type": "code",
   "execution_count": 50,
   "id": "66fd01d1",
   "metadata": {},
   "outputs": [
    {
     "data": {
      "image/png": "[encoded data removed]",
      "text/plain": [
       "<Figure size 432x288 with 1 Axes>"
      ]
     },
     "metadata": {
      "needs_background": "light"
     },
     "output_type": "display_data"
    }
   ],
   "source": [
    "#POISSION \n",
    "\n",
    "poisson_data = np.random.poisson(lam=5, size=1000)\n",
    " \n",
    "# plotting a histogram\n",
    "ax = sns.distplot(poisson_data,kde=False,color='blue')\n",
    "ax.set(xlabel='Poisson Distribution', ylabel='Frequency')\n",
    " \n",
    "plt.show()\n",
    "\n",
    "\n",
    "#discrete data"
   ]
  },
  {
   "cell_type": "code",
   "execution_count": null,
   "id": "9b254009",
   "metadata": {},
   "outputs": [],
   "source": []
  },
  {
   "cell_type": "code",
   "execution_count": null,
   "id": "d5f332d1",
   "metadata": {},
   "outputs": [],
   "source": [
    "#CENTRAL LIMIT THEOREM"
   ]
  },
  {
   "cell_type": "code",
   "execution_count": 54,
   "id": "2c75dc45",
   "metadata": {},
   "outputs": [],
   "source": [
    "population=np.random.randint(10,20,50)"
   ]
  },
  {
   "cell_type": "code",
   "execution_count": 55,
   "id": "81599b36",
   "metadata": {},
   "outputs": [
    {
     "data": {
      "text/plain": [
       "array([17, 19, 18, 17, 18, 14, 16, 19, 15, 13, 12, 11, 14, 13, 15, 13, 15,\n",
       "       13, 19, 11, 18, 12, 17, 10, 19, 18, 13, 16, 11, 11, 12, 17, 17, 19,\n",
       "       17, 17, 12, 11, 19, 18, 10, 18, 18, 12, 17, 19, 17, 16, 13, 19])"
      ]
     },
     "execution_count": 55,
     "metadata": {},
     "output_type": "execute_result"
    }
   ],
   "source": [
    "population"
   ]
  },
  {
   "cell_type": "code",
   "execution_count": 56,
   "id": "ca29d534",
   "metadata": {},
   "outputs": [
    {
     "data": {
      "text/plain": [
       "15.3"
      ]
     },
     "execution_count": 56,
     "metadata": {},
     "output_type": "execute_result"
    }
   ],
   "source": [
    "np.mean(population)"
   ]
  },
  {
   "cell_type": "code",
   "execution_count": 57,
   "id": "239ccdf9",
   "metadata": {},
   "outputs": [
    {
     "data": {
      "text/plain": [
       "16.0"
      ]
     },
     "execution_count": 57,
     "metadata": {},
     "output_type": "execute_result"
    }
   ],
   "source": [
    "np.median(population)"
   ]
  },
  {
   "cell_type": "code",
   "execution_count": 58,
   "id": "80b5c512",
   "metadata": {},
   "outputs": [
    {
     "data": {
      "text/plain": [
       "17"
      ]
     },
     "execution_count": 58,
     "metadata": {},
     "output_type": "execute_result"
    }
   ],
   "source": [
    "import statistics\n",
    "statistics.mode(population)"
   ]
  },
  {
   "cell_type": "code",
   "execution_count": 60,
   "id": "a923ae8a",
   "metadata": {},
   "outputs": [],
   "source": [
    "#take random sample from population\n",
    "\n",
    "sample=np.random.choice(population,20)"
   ]
  },
  {
   "cell_type": "code",
   "execution_count": 61,
   "id": "144dc1be",
   "metadata": {},
   "outputs": [
    {
     "data": {
      "text/plain": [
       "array([12, 15, 18, 10, 19, 13, 17, 17, 10, 11, 16, 17, 13, 17, 14, 15, 17,\n",
       "       19, 12, 19])"
      ]
     },
     "execution_count": 61,
     "metadata": {},
     "output_type": "execute_result"
    }
   ],
   "source": [
    "sample"
   ]
  },
  {
   "cell_type": "code",
   "execution_count": 65,
   "id": "04286638",
   "metadata": {},
   "outputs": [
    {
     "name": "stdout",
     "output_type": "stream",
     "text": [
      "mean of the sample 15.05\n",
      "median of the sample 15.5\n",
      "mode of the sample 17\n"
     ]
    }
   ],
   "source": [
    "print(f\"mean of the sample {np.mean(sample)}\")\n",
    "print(f\"median of the sample {np.median(sample)}\")\n",
    "print(f\"mode of the sample {statistics.mode(sample)}\")"
   ]
  },
  {
   "cell_type": "markdown",
   "id": "8d45eaa6",
   "metadata": {},
   "source": [
    "**Suppose you have a population with any shape of probability distribution (not necessarily normal), \n",
    "and you draw random samples of a fixed size from this population. As the sample size increases, \n",
    "the distribution of the sample means approaches a normal distribution, \n",
    "regardless of the shape of the original population distribution.**"
   ]
  },
  {
   "cell_type": "code",
   "execution_count": 67,
   "id": "d4850c49",
   "metadata": {},
   "outputs": [],
   "source": [
    "sample1 = np.random.choice(population,20)\n",
    "sample2 = np.random.choice(population,20)\n",
    "sample3 = np.random.choice(population,20)\n",
    "sample4 = np.random.choice(population,20)"
   ]
  },
  {
   "cell_type": "code",
   "execution_count": 76,
   "id": "8216645d",
   "metadata": {},
   "outputs": [
    {
     "name": "stdout",
     "output_type": "stream",
     "text": [
      "[11 17 11 19 12 18 17 17 17 18 16 17 12 12 18 17 17 18 17 16]\n",
      "-------------------------------------------------------------\n",
      "[11 11 18 12 16 11 18 18 17 16 13 12 15 19 13 17 17 18 13 19]\n",
      "-------------------------------------------------------------\n",
      "[13 17 18 17 18 17 19 18 16 16 19 10 18 13 11 15 15 18 12 10]\n",
      "-------------------------------------------------------------\n",
      "[11 12 17 11 19 19 15 10 11 17 16 19 15 15 17 13 18 11 13 17]\n"
     ]
    }
   ],
   "source": [
    "print(sample1)\n",
    "print(61*'-')\n",
    "print(sample2)\n",
    "print(61*'-')\n",
    "print(sample3)\n",
    "print(61*'-')\n",
    "print(sample4)"
   ]
  },
  {
   "cell_type": "code",
   "execution_count": 81,
   "id": "54824afd",
   "metadata": {},
   "outputs": [
    {
     "name": "stdout",
     "output_type": "stream",
     "text": [
      "15.85\n",
      "15.2\n",
      "15.5\n",
      "14.8\n"
     ]
    }
   ],
   "source": [
    "MeanOfAllSample=[]\n",
    "AllSample=[sample1,sample2,sample3,sample4]\n",
    "\n",
    "for sample in AllSample:\n",
    "    print(np.mean(sample))\n",
    "    MeanOfAllSample.append(np.mean(sample))"
   ]
  },
  {
   "cell_type": "code",
   "execution_count": 82,
   "id": "50785713",
   "metadata": {},
   "outputs": [
    {
     "data": {
      "text/plain": [
       "[15.85, 15.2, 15.5, 14.8]"
      ]
     },
     "execution_count": 82,
     "metadata": {},
     "output_type": "execute_result"
    }
   ],
   "source": [
    "MeanOfAllSample"
   ]
  },
  {
   "cell_type": "code",
   "execution_count": null,
   "id": "57708b86",
   "metadata": {},
   "outputs": [],
   "source": []
  },
  {
   "cell_type": "code",
   "execution_count": 83,
   "id": "a67f29ab",
   "metadata": {},
   "outputs": [],
   "source": [
    "#BINOMIAL\n",
    "\n",
    "population=np.random.binomial(10,0.5,10000)"
   ]
  },
  {
   "cell_type": "code",
   "execution_count": 84,
   "id": "57202104",
   "metadata": {},
   "outputs": [
    {
     "data": {
      "text/plain": [
       "array([6, 4, 5, ..., 5, 6, 7])"
      ]
     },
     "execution_count": 84,
     "metadata": {},
     "output_type": "execute_result"
    }
   ],
   "source": [
    "population"
   ]
  },
  {
   "cell_type": "code",
   "execution_count": 85,
   "id": "49cc098b",
   "metadata": {},
   "outputs": [
    {
     "data": {
      "text/plain": [
       "10000"
      ]
     },
     "execution_count": 85,
     "metadata": {},
     "output_type": "execute_result"
    }
   ],
   "source": [
    "len(population)"
   ]
  },
  {
   "cell_type": "code",
   "execution_count": 87,
   "id": "cc05c093",
   "metadata": {},
   "outputs": [
    {
     "name": "stderr",
     "output_type": "stream",
     "text": [
      "C:\\Users\\91983\\anaconda3\\lib\\site-packages\\seaborn\\distributions.py:2619: FutureWarning: `distplot` is a deprecated function and will be removed in a future version. Please adapt your code to use either `displot` (a figure-level function with similar flexibility) or `histplot` (an axes-level function for histograms).\n",
      "  warnings.warn(msg, FutureWarning)\n"
     ]
    },
    {
     "data": {
      "text/plain": [
       "<AxesSubplot:ylabel='Density'>"
      ]
     },
     "execution_count": 87,
     "metadata": {},
     "output_type": "execute_result"
    },
    {
     "data": {
      "image/png": "[encoded data removed]",
      "text/plain": [
       "<Figure size 432x288 with 1 Axes>"
      ]
     },
     "metadata": {
      "needs_background": "light"
     },
     "output_type": "display_data"
    }
   ],
   "source": [
    "sns.distplot(population,kde=True)"
   ]
  },
  {
   "cell_type": "markdown",
   "id": "5926023f",
   "metadata": {},
   "source": [
    "**Suppose you have a population with any shape of probability distribution (not necessarily normal), and you draw random samples(at least 30) of a fixed size(in our case i took 3000 initially) from this population. As the sample size increases(it might be anything and take as much as data), the distribution of the sample means approaches a normal distribution, regardless of the shape of the original population distribution.**"
   ]
  },
  {
   "cell_type": "code",
   "execution_count": 100,
   "id": "c313ee16",
   "metadata": {},
   "outputs": [
    {
     "name": "stdout",
     "output_type": "stream",
     "text": [
      "5000\n"
     ]
    }
   ],
   "source": [
    "size=int(len(population)*0.50)\n",
    "print(size)"
   ]
  },
  {
   "cell_type": "code",
   "execution_count": 101,
   "id": "ba1cbb1a",
   "metadata": {},
   "outputs": [],
   "source": [
    "SampleMean=[]\n",
    "\n",
    "for i in range(1,31):\n",
    "    sample=np.random.choice(population,size=size)\n",
    "    SampleMean.append(np.mean(sample))\n",
    "    "
   ]
  },
  {
   "cell_type": "code",
   "execution_count": 102,
   "id": "6e9ebf93",
   "metadata": {},
   "outputs": [
    {
     "data": {
      "text/plain": [
       "[4.9868,\n",
       " 5.0292,\n",
       " 4.9736,\n",
       " 4.9842,\n",
       " 4.9828,\n",
       " 4.992,\n",
       " 5.0122,\n",
       " 5.001,\n",
       " 4.985,\n",
       " 4.9986,\n",
       " 5.0126,\n",
       " 5.0008,\n",
       " 4.9798,\n",
       " 5.0266,\n",
       " 4.9684,\n",
       " 4.9956,\n",
       " 5.021,\n",
       " 4.9932,\n",
       " 5.0188,\n",
       " 5.0326,\n",
       " 4.999,\n",
       " 4.9482,\n",
       " 5.0196,\n",
       " 4.9738,\n",
       " 5.002,\n",
       " 4.9818,\n",
       " 5.0162,\n",
       " 5.0222,\n",
       " 5.0044,\n",
       " 5.0076]"
      ]
     },
     "execution_count": 102,
     "metadata": {},
     "output_type": "execute_result"
    }
   ],
   "source": [
    "SampleMean"
   ]
  },
  {
   "cell_type": "code",
   "execution_count": 104,
   "id": "ab4b89c0",
   "metadata": {},
   "outputs": [
    {
     "name": "stderr",
     "output_type": "stream",
     "text": [
      "C:\\Users\\91983\\anaconda3\\lib\\site-packages\\seaborn\\distributions.py:2619: FutureWarning: `distplot` is a deprecated function and will be removed in a future version. Please adapt your code to use either `displot` (a figure-level function with similar flexibility) or `histplot` (an axes-level function for histograms).\n",
      "  warnings.warn(msg, FutureWarning)\n"
     ]
    },
    {
     "data": {
      "text/plain": [
       "<AxesSubplot:ylabel='Density'>"
      ]
     },
     "execution_count": 104,
     "metadata": {},
     "output_type": "execute_result"
    },
    {
     "data": {
      "image/png": "[encoded data removed]",
      "text/plain": [
       "<Figure size 432x288 with 1 Axes>"
      ]
     },
     "metadata": {
      "needs_background": "light"
     },
     "output_type": "display_data"
    }
   ],
   "source": [
    "sns.distplot(SampleMean)"
   ]
  },
  {
   "cell_type": "code",
   "execution_count": null,
   "id": "b58c7b0f",
   "metadata": {},
   "outputs": [],
   "source": []
  },
  {
   "cell_type": "code",
   "execution_count": 111,
   "id": "597694f5",
   "metadata": {},
   "outputs": [],
   "source": [
    "#BY TAKING lognormal\n",
    "\n",
    "population1=np.random.lognormal(3.0,1.0,1000)"
   ]
  },
  {
   "cell_type": "code",
   "execution_count": 112,
   "id": "15af0f50",
   "metadata": {},
   "outputs": [
    {
     "data": {
      "text/plain": [
       "array([587.03838722,  14.7226521 , 121.58159254,  12.85902519,\n",
       "         3.82825668,  18.11069213,  16.23561288,  17.28131481,\n",
       "         9.6042034 ,   3.15448047,  30.98732745,  23.97285493,\n",
       "        36.1195954 ,  14.13030933,  14.06264168,  47.39578593,\n",
       "         9.29045552,  16.34803591, 214.77264131,   7.66478891,\n",
       "         6.32841263,  16.05197829,  24.35646143,  11.37243249,\n",
       "         7.43034814,   8.57204626,  50.87919208,  31.77458212,\n",
       "        56.97910188,   9.70439483,   6.62651474,  77.5164349 ,\n",
       "        46.2598617 ,   5.31936367,  11.21069539, 193.97978255,\n",
       "        12.32441303,  12.48776762,  84.2927987 ,   8.28736366,\n",
       "        11.30359855,  10.90732652,  58.71467578,  20.90912203,\n",
       "        53.47977312,  71.34416183,   8.41983462,  17.62023886,\n",
       "        29.07088591,  21.20929535,  16.1406561 ,  41.00949953,\n",
       "         5.17411424,  55.94895498,   8.30879805,  13.22943346,\n",
       "        12.72895202,   8.57866459,  72.37294342,  19.26052844,\n",
       "        14.85883729,   2.45243056,  84.18522397,  20.52800013,\n",
       "        18.42716731,  46.71738602,  27.97318718,  20.96302677,\n",
       "        71.35953946, 139.69956402,   3.98065323,   8.37083266,\n",
       "        70.81995255,  39.26142885, 192.28107629,  19.59281899,\n",
       "       106.51236204,  24.60550734,  15.36568375,   1.75308046,\n",
       "         8.8402527 ,  20.57972064,  16.51762688,   4.37064751,\n",
       "        44.54581846,  11.28936916,  34.06373443,  21.5402306 ,\n",
       "         6.71549386,  11.91295806,  81.74133097,  30.65729007,\n",
       "        48.39959158,  87.74997496,  38.22744172,  25.39131086,\n",
       "        20.80148965,  72.84147964,   4.8038607 ,   4.93756832,\n",
       "         7.03512161,  17.10075648, 218.33681768,  11.59385741,\n",
       "        26.88821669, 207.1946024 ,  15.04681792,  33.45836346,\n",
       "        22.24536004,  18.839173  ,  19.00595746,  28.51488154,\n",
       "        15.42884356,  38.33514792,  26.24616367,  16.93652249,\n",
       "        35.80331894,  52.7115055 , 114.78202447,  36.17759436,\n",
       "        12.71575095,  24.01687131,   6.98332187,  37.53579073,\n",
       "         4.78555827,   4.28887363, 258.58628576,   6.02239122,\n",
       "        33.13899675,   9.34105987,  48.67532047,  42.60555398,\n",
       "        21.51833309,  21.57484139,  34.71154435,   9.52152199,\n",
       "        15.60018632,  22.15231142,  76.74074111,   5.77343226,\n",
       "        29.30398843,  37.09794288,  19.53651969,   6.43349475,\n",
       "        32.97762789,  13.31719736,  64.33996565,  42.75609174,\n",
       "        68.18850736,  18.73302842,  55.67096773,  74.43881032,\n",
       "        17.8918168 ,  75.3647984 ,  15.02611089,  70.79087778,\n",
       "        33.20028692,   9.70292043,  41.72895716,  11.73731965,\n",
       "        32.47078576,   4.85441162,  14.99086997, 298.09232614,\n",
       "        73.37331573,  85.62145472,  16.50980683,   9.41983869,\n",
       "        16.92531302,   4.89147675,  49.16498565,   9.29645337,\n",
       "        29.10532936,  16.36667864,  26.9787149 ,  58.27390975,\n",
       "         0.88924967,  26.31001525,   4.02100645,   1.90944509,\n",
       "         7.34306553,   5.5241851 , 113.93078374,  23.4097612 ,\n",
       "        20.48807028,  17.7868743 ,   3.12635273,   6.79168504,\n",
       "       228.57276343,  15.00783375,  19.89415478,  33.84613327,\n",
       "        18.16200635,  66.89624104,  11.27139696,  41.66341888,\n",
       "        12.44742625,  25.70552557,  25.56586131,   7.34951371,\n",
       "        14.14152845,  23.73112146,  25.46016581,  41.84077429,\n",
       "        39.73440965,  15.85700757,  80.97529476,  27.50104406,\n",
       "       129.95260584,  59.63592766,  21.42109293,  43.02238824,\n",
       "        18.83313658,  49.15037293,   4.44555426,  19.93920911,\n",
       "        10.50979953,  11.77598944,   4.46008053,  21.79421119,\n",
       "         6.1701001 ,   6.69682648,  53.97581657,  15.56347922,\n",
       "        29.30333379,   6.03817134,   9.9696764 ,  91.36066544,\n",
       "        29.23879031, 180.07958581,  12.45090017,  11.26567413,\n",
       "         6.91992725,  66.54438091,  78.33881083,  24.24045684,\n",
       "        10.21808363,  13.81632924,   6.15930752,   7.45051914,\n",
       "        65.39554442,  29.74685123, 153.33538242,   3.60178453,\n",
       "        25.88313286,  81.78716862,   7.50796806,  45.47404687,\n",
       "        99.05504066,  11.25909285,  28.63048461,  70.04160851,\n",
       "        40.07420008,   2.24481663,   5.16164853,  40.05049551,\n",
       "        19.06442003, 449.38924228,  30.29750192,  58.96265093,\n",
       "        13.61835145,  31.21511694,  19.82075126,  39.52631321,\n",
       "         5.82531516,   8.92858261,  41.0412352 ,  25.08002037,\n",
       "        12.18472769,  12.11104706,  39.12687662,   4.90071883,\n",
       "        42.10503072,  14.3007708 , 200.64269393, 221.40048754,\n",
       "         7.18166264,   3.99019659,  19.40464456,  14.59785605,\n",
       "        38.58218093,  73.8351317 ,   3.50289344,  36.87756501,\n",
       "        14.02075963,  12.82442964,  25.39899226,  42.54745342,\n",
       "        18.58335461,  38.73342031,   3.51396362,   7.78413212,\n",
       "        18.72110623,  12.63259779,  43.68242507,   2.64078488,\n",
       "        23.21764563,   1.40695006,  31.11600552,  22.77515063,\n",
       "        35.05263731,  15.01784304,   5.05799042,  39.38256528,\n",
       "         8.24824116,  25.15398192,  35.39541595,  32.41730644,\n",
       "         5.64860216,  19.51953536,   7.72440253,  20.22795032,\n",
       "        16.37974124,  29.15812959,  20.12766344,   5.18458946,\n",
       "         2.70870589,  28.731255  ,  19.6427962 ,   6.92987385,\n",
       "         8.9330612 ,  11.21043936,   3.51868055,  24.67355225,\n",
       "        58.90693086,   3.34616296,  35.33715855,   3.86359375,\n",
       "        70.60917882,   4.85436376, 133.39623755,  19.14466429,\n",
       "        33.33399026,  13.11434483,   1.94463881,  13.81651548,\n",
       "        19.30074761,  26.73896847,  40.25065735,  24.69680184,\n",
       "        53.32884497,  13.167139  ,  32.85863278,   8.49209527,\n",
       "        19.52547579,  41.51056353,  24.63550373,  29.78797603,\n",
       "        75.62557463, 124.37426714,  42.64227875,   5.99996297,\n",
       "         2.57689705,  24.02778927, 139.13651284,   5.80095445,\n",
       "         4.88532937,  15.54949443,  19.76984734,  58.7315381 ,\n",
       "        34.68842615, 501.22652706,   6.03640929,  25.62428013,\n",
       "        40.44216784,  52.12777008,  13.25972892,  45.9179071 ,\n",
       "        44.11574572,  44.41467978,  47.02005283, 113.79312813,\n",
       "         8.14223365,   7.69697686,  28.68865309,  32.14890747,\n",
       "        10.41827827,  22.26499754,  15.4921669 ,   6.06730662,\n",
       "        10.80741343,   6.17974137, 156.30876946,  12.44480945,\n",
       "       114.88241239,  76.61200804,   6.34981277,  21.10573561,\n",
       "        15.70933864, 116.08044592,  15.5416457 ,  31.55740931,\n",
       "        23.16051602,  14.89738196,  16.4997082 ,  43.19761861,\n",
       "        23.18552029,   7.17318235,   7.06438134,   4.12283051,\n",
       "       117.40222907,  21.19628547,  16.99992981,  34.32853923,\n",
       "        17.59601598,  30.48983145,  11.54541717,  43.55729453,\n",
       "         5.87937672,  43.6267782 ,  70.38972421,  26.87800175,\n",
       "        21.37063794,  15.63281351,  38.66357926,  34.30134461,\n",
       "        38.55959813,  52.77639561,  12.57121951,   9.28843979,\n",
       "        37.18385962,  31.89753775,  32.58590272,  18.61679663,\n",
       "         3.87994168,   5.86437379,  34.49719879,  29.55755878,\n",
       "        66.76942349,   3.63863852,  24.50538702,   5.74182747,\n",
       "        24.41267835,  62.00605102,  61.77734801,  90.06670873,\n",
       "        21.1386009 , 139.04090492,   4.47073654, 153.65870571,\n",
       "        24.13318013,  16.36288005,  16.19843227,  59.36397773,\n",
       "        26.02852124,   9.00648736,   5.1652913 ,  19.06135411,\n",
       "         4.29525979,  31.34600287,  33.71917764,  34.34034334,\n",
       "         2.05319368,   9.33729732,  18.32656872,  31.21414337,\n",
       "        32.90039042,   8.9278661 , 107.95578919,   8.34285866,\n",
       "         8.45855328,  11.54723337,  22.59249299,  29.00970589,\n",
       "         6.82400696,  15.23450907,  13.33933945,   6.72848783,\n",
       "        20.85701105,  17.89250456,   7.62370335,   8.85486769,\n",
       "         9.88476235,  21.74997042,  75.91616926,  52.82311427,\n",
       "         8.85780474,   6.87312206, 132.93697785,   6.7829609 ,\n",
       "        11.65311725,   6.15465289, 220.95536462,  12.24271434,\n",
       "        19.99295099,  29.25493925,  20.07259205,  17.4245062 ,\n",
       "         5.67848419,  23.09996466,   5.45986728,   9.27633501,\n",
       "       120.1626597 ,  47.71516304, 124.965245  ,   8.90059279,\n",
       "        15.91256086, 241.5786639 ,  19.57469323,  39.03856558,\n",
       "       122.28358819,  23.97737312,   5.58363832,  57.37465609,\n",
       "        36.19097071,  10.47026199,  38.60532851,  10.82532922,\n",
       "        24.85045751,   8.04993171,  12.37478097,  19.02192859,\n",
       "        43.65019454,  60.09468632,  15.07659447,  54.91544738,\n",
       "        90.14083475,  22.87868077,  23.16602699,  60.85304486,\n",
       "       104.91836205,  11.75751775,  24.53014555,  21.50725993,\n",
       "        11.44755922,  10.5140458 ,   9.92438497,   2.91851138,\n",
       "        15.55534503,   6.78386303,  25.99394999,   8.88918936,\n",
       "        11.26811966,  23.29447806,  12.12747914,   4.18447671,\n",
       "        74.45496181,  38.24474792,  29.04892605,   4.51185465,\n",
       "         8.67248472,  75.01544002,   5.75562146,  34.58324181,\n",
       "         8.72770505,  26.83097789,  13.43241951,  16.62744245,\n",
       "        16.76770201,  17.26968596,   5.93541966,  21.22699533,\n",
       "        46.47561904,   6.27786565,  10.71653727,   6.6216428 ,\n",
       "        28.68995118,  14.79961304,  11.17120741,  76.43363825,\n",
       "         5.84272005,  53.68947766,  10.91835023,  20.18045372,\n",
       "        13.08435207,   1.22669567,  11.12674605,  25.2338776 ,\n",
       "        42.68240044,  38.92292291,  48.29577082,  20.25884335,\n",
       "         6.15978776,  27.88591961,  20.28703605,  59.08142177,\n",
       "        17.52102848,  39.72119486,  17.0308779 , 169.96048789,\n",
       "        22.15304747,   6.2896711 ,  71.43186405,  16.45040847,\n",
       "         6.57928339,  23.47512528,  16.2763494 ,  59.47032516,\n",
       "        67.5550149 ,  12.25633548,  11.26127784,  28.834635  ,\n",
       "       334.2049346 ,   2.55749519,   4.90271378,   8.89441572,\n",
       "        68.04991683,  50.66210097,  19.90840071,  22.42594292,\n",
       "         7.64334611,  26.00260543,  91.8885496 ,  26.20967355,\n",
       "         9.05015219,  11.07313762,   6.84866556,  56.22063467,\n",
       "         5.02005002,  65.26170897,  10.00140899,   8.30153114,\n",
       "        11.31206734,  33.53139421,   7.69987008,  30.43443156,\n",
       "        43.0465187 ,   5.620546  ,   4.86419928,   8.88318116,\n",
       "        15.09238124,  20.34046718,  11.80908563,  10.8729138 ,\n",
       "         2.80319346,  12.50724153,  67.88591422,   7.89554729,\n",
       "         2.53610094,  66.17569074, 102.10518734,  37.29803104,\n",
       "        18.3934545 ,   7.91932388,  10.00090879,  17.48215103,\n",
       "         4.5366734 ,  12.84539352,  10.69645927,  43.1975772 ,\n",
       "        11.37777311,  14.64621734,  28.84707931,  41.61840043,\n",
       "        34.18348744,  10.06702703,  13.94692827,  45.65251229,\n",
       "        14.2028849 ,  43.9734023 ,  92.94603329,  11.92055354,\n",
       "         5.63605848,  80.64735726,  14.38498682,  59.60237605,\n",
       "        15.28874915,  31.04957496,  10.66179765,  11.94980262,\n",
       "        59.0218626 ,  83.50966854,  33.236939  ,  10.92325946,\n",
       "         5.42480612,  53.95526251,   8.45833458,  37.00636549,\n",
       "        29.12410423,   1.53154299,  89.88973653,  25.08250852,\n",
       "        11.97954406,   3.29595735,  16.97078643,  22.58190727,\n",
       "        25.17127839,   6.90499596,  51.30402222,  14.74384614,\n",
       "        33.67481316,   6.64635619,   6.26875741,  12.99028933,\n",
       "         6.12133161,  55.91168367,   5.99382906,  11.57373979,\n",
       "        22.27276578,   3.57608491,  72.01430103,  14.02680075,\n",
       "        11.95896144,  12.93167334,  18.82033237,  11.45466313,\n",
       "       114.92547967,  20.09329155,  25.02927965, 177.45513094,\n",
       "        41.34840275, 230.58426486,  18.21445857,  95.90145432,\n",
       "         1.89355694,  18.61524079,  40.55207264, 208.04502873,\n",
       "        11.36267778,  17.91539358,  12.22875437,  12.95862834,\n",
       "        44.18970657,  17.29802235,   8.86723214,  40.2246704 ,\n",
       "        28.86776619,  55.03999955,   5.64348423,  64.64049957,\n",
       "        22.97042884, 154.70158771,   5.23201856,   7.34554737,\n",
       "        52.99158736,  22.8223702 ,  26.17697831,  33.21294913,\n",
       "        10.05949362,   7.52163319,   8.55019629,  20.26796583,\n",
       "        16.45013377,  33.14246331,  45.9371013 ,   8.13884263,\n",
       "         6.91991157,  29.38233113,  10.73603945,   4.11350475,\n",
       "        14.40842978,  10.70470086,  12.11593624,  32.49746806,\n",
       "        41.10624593,  52.31413667,  21.50110775,  31.94835382,\n",
       "        40.69004912,  31.40586059,  38.17128495,  87.58083877,\n",
       "        38.40084067,  25.54876379, 163.82726759,  39.32521248,\n",
       "         1.60247489,   9.35518182, 120.54381761,  91.41222455,\n",
       "        54.21208703,  41.14041769,  20.55884695,   9.48992198,\n",
       "        23.12346626,  22.52534491,  29.14711526,   4.32169551,\n",
       "         7.87783731,  18.43594217,  37.19202126,   7.83231583,\n",
       "        19.41051165,  40.13861696, 152.50111917,  18.89665292,\n",
       "        12.00676968,  48.96077118,  28.59188131,  37.63479035,\n",
       "        18.8128516 ,  93.86124253,  11.35111311,  21.4338613 ,\n",
       "       163.91631703,  40.18824998,  21.4958593 ,  19.26311116,\n",
       "        12.24063663,  14.8022861 ,   6.85865702,  16.97907264,\n",
       "        12.76114877, 116.00829261,   3.27892396, 322.09093752,\n",
       "        19.11012512,  12.17387614,  18.71397047,   5.95999026,\n",
       "        64.37546228,  14.30040049,   5.28260856,   8.62225272,\n",
       "        20.61937519,  26.66362081,  12.56725803,  26.15698011,\n",
       "        74.25765924,  20.50239287,   4.49559981,   6.80584511,\n",
       "        21.20538416,   9.30593833,   8.12052692,  26.817884  ,\n",
       "        27.18975048,   8.72348169,  45.22098437,   3.26900056,\n",
       "         7.71912519,  23.90806614,  18.73397002,  74.54614156,\n",
       "        49.8609354 ,   2.60137666,   8.45988816,   8.94497764,\n",
       "         8.19650814,   3.74330017,   5.54268713,  26.45027322,\n",
       "        16.73153278,  89.68118537,  42.71029225,  22.40000997,\n",
       "        13.36884695,  62.92319012,  40.66199201,  98.6305422 ,\n",
       "        96.18011542,   2.91599664,  44.47125919,  26.95396604,\n",
       "       311.09483099,   3.32207852,  40.39989498,  32.40255116,\n",
       "        41.29339609,  66.79993386,  43.39160677,  15.94579132,\n",
       "        26.9747221 ,  32.59213366,  14.19865307,  28.59472485,\n",
       "         6.58160475,   4.04974403,  33.87963688,  39.38450642,\n",
       "         5.15313934,  28.18364452,   2.13968154,  32.40975725,\n",
       "         8.41548768, 122.62122807,  97.70379595,   8.47520241,\n",
       "        11.92727993,   9.78553417,  24.49243363,  22.80664797,\n",
       "        10.56574038, 146.74863647,  25.04508546, 284.34781286,\n",
       "        25.57343814,  31.01427799,  28.15758615,   5.90059986,\n",
       "        16.54236875,  21.30668318,   5.41753048,  17.60566032,\n",
       "         2.31304529,  15.79038562,   9.99803092,  11.76657174,\n",
       "        61.32772527,  28.60887273,  15.08698241,   4.73451556,\n",
       "        94.13891724,  93.5786595 ,  49.94564167, 238.83339095,\n",
       "        50.84176105,   4.58798303,  12.59312781,   6.50506102,\n",
       "         2.63289457,  10.88214692,   5.20193993,  48.43166013,\n",
       "        11.54323794,  12.09890567,  36.88010743,  91.55616089,\n",
       "        18.7737597 ,   4.37784861,  63.08420236,   6.91610871,\n",
       "        10.91451409,  21.66234886,   4.27354439,  49.19738542,\n",
       "        18.18321022,  17.22224074,  13.97916165,  33.58885595,\n",
       "        43.35569954,  15.78825998,   4.49325965,  35.30324557,\n",
       "        36.28024834,   8.4377059 ,  23.37879729,  55.6021106 ,\n",
       "        11.10071768,  11.59454128,   3.80285685,  13.92402106,\n",
       "        13.17788221,  13.72638528,  18.43389383,  17.48917466,\n",
       "        26.90253135,  22.67607596,  33.95989378,  37.58625365,\n",
       "        91.32412024,  29.07948153,   7.07920242,  10.2007885 ,\n",
       "        14.21158213,  18.78779061,  18.43726846,   2.82023419,\n",
       "         2.7386838 ,   1.53151859,  37.70848944,  44.9510846 ,\n",
       "        59.6815037 ,  22.53577726,  20.8305572 ,  49.78778312,\n",
       "        14.83261152,  67.81217944,   3.41746567,  74.0815665 ,\n",
       "        12.96019827, 138.78191049,  18.92107852,  19.9056801 ,\n",
       "        23.70578533,   5.2272314 ,  33.40797236,  24.24885277,\n",
       "         1.17882037,   8.83013005,  10.93205497,  23.21075862,\n",
       "        50.46664027,   2.56269437,  30.8289538 ,   7.90767304,\n",
       "        17.64339811,   8.95863834,  10.55329162,  26.61755118,\n",
       "        42.66141123,  25.99634915,  21.14286519,   7.6525619 ,\n",
       "        35.98603272,   7.01492997,  42.70592056,   9.83673624,\n",
       "        27.42330809,  32.23874812,  29.8409907 ,  11.74553101,\n",
       "        22.80963459, 121.04402067,  65.17759456,  12.18065818,\n",
       "        17.77236033,  44.00188408,  47.94267147,   5.256607  ])"
      ]
     },
     "execution_count": 112,
     "metadata": {},
     "output_type": "execute_result"
    }
   ],
   "source": [
    "population1"
   ]
  },
  {
   "cell_type": "code",
   "execution_count": 117,
   "id": "ff50692d",
   "metadata": {},
   "outputs": [
    {
     "name": "stdout",
     "output_type": "stream",
     "text": [
      "50\n"
     ]
    }
   ],
   "source": [
    "size=(int(len(population1)*0.05))\n",
    "print(size)"
   ]
  },
  {
   "cell_type": "code",
   "execution_count": 118,
   "id": "85769353",
   "metadata": {},
   "outputs": [],
   "source": [
    "sample_mean=[]\n",
    "\n",
    "for i in range(1,31):\n",
    "    sample=np.random.choice(population1,size=size)\n",
    "    sample_mean.append(np.mean(sample))"
   ]
  },
  {
   "cell_type": "code",
   "execution_count": 119,
   "id": "fc54d1b2",
   "metadata": {},
   "outputs": [
    {
     "data": {
      "text/plain": [
       "[35.43167298846583,\n",
       " 34.207497103446464,\n",
       " 39.677761050903385,\n",
       " 37.965290026872495,\n",
       " 26.589431024250807,\n",
       " 29.704221598766136,\n",
       " 33.970415116053225,\n",
       " 31.52117099862731,\n",
       " 33.82650649519929,\n",
       " 27.46156009828364,\n",
       " 49.06909351010965,\n",
       " 40.55918741776761,\n",
       " 27.4548831684152,\n",
       " 35.34984103236499,\n",
       " 29.95213700830386,\n",
       " 40.40998400400692,\n",
       " 24.93030491567338,\n",
       " 38.9114255798754,\n",
       " 39.98384880096209,\n",
       " 32.49971134798363,\n",
       " 32.056575056353026,\n",
       " 40.273366829376904,\n",
       " 46.70268205342061,\n",
       " 36.28364258824933,\n",
       " 36.686711366275766,\n",
       " 38.47460187244722,\n",
       " 28.492094065149992,\n",
       " 30.668901631429744,\n",
       " 40.34326623698758,\n",
       " 31.147830493277052]"
      ]
     },
     "execution_count": 119,
     "metadata": {},
     "output_type": "execute_result"
    }
   ],
   "source": [
    "sample_mean"
   ]
  },
  {
   "cell_type": "code",
   "execution_count": 120,
   "id": "c27afe45",
   "metadata": {},
   "outputs": [
    {
     "name": "stderr",
     "output_type": "stream",
     "text": [
      "C:\\Users\\91983\\anaconda3\\lib\\site-packages\\seaborn\\distributions.py:2619: FutureWarning: `distplot` is a deprecated function and will be removed in a future version. Please adapt your code to use either `displot` (a figure-level function with similar flexibility) or `histplot` (an axes-level function for histograms).\n",
      "  warnings.warn(msg, FutureWarning)\n"
     ]
    },
    {
     "data": {
      "text/plain": [
       "<AxesSubplot:ylabel='Density'>"
      ]
     },
     "execution_count": 120,
     "metadata": {},
     "output_type": "execute_result"
    },
    {
     "data": {
      "image/png": "[encoded data removed]",
      "text/plain": [
       "<Figure size 432x288 with 1 Axes>"
      ]
     },
     "metadata": {
      "needs_background": "light"
     },
     "output_type": "display_data"
    }
   ],
   "source": [
    "sns.distplot(sample_mean)"
   ]
  },
  {
   "cell_type": "code",
   "execution_count": null,
   "id": "2d14066b",
   "metadata": {},
   "outputs": [],
   "source": []
  },
  {
   "cell_type": "code",
   "execution_count": null,
   "id": "9b3bbdfc",
   "metadata": {},
   "outputs": [],
   "source": []
  },
  {
   "cell_type": "code",
   "execution_count": null,
   "id": "cf6d6b53",
   "metadata": {},
   "outputs": [],
   "source": []
  },
  {
   "cell_type": "code",
   "execution_count": null,
   "id": "9d6ba920",
   "metadata": {},
   "outputs": [],
   "source": []
  }
 ],
 "metadata": {
  "kernelspec": {
   "display_name": "Python 3 (ipykernel)",
   "language": "python",
   "name": "python3"
  },
  "language_info": {
   "codemirror_mode": {
    "name": "ipython",
    "version": 3
   },
   "file_extension": ".py",
   "mimetype": "text/x-python",
   "name": "python",
   "nbconvert_exporter": "python",
   "pygments_lexer": "ipython3",
   "version": "3.9.12"
  }
 },
 "nbformat": 4,
 "nbformat_minor": 5
}

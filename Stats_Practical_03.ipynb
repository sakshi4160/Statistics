{
 "cells": [
  {
   "cell_type": "markdown",
   "id": "ef51f274",
   "metadata": {},
   "source": [
    "# Z TEST\n",
    "\n",
    "#T TEST\n",
    "\n",
    "#CHI sq test\n",
    "\n",
    "#Anova"
   ]
  },
  {
   "cell_type": "raw",
   "id": "2feb52e4",
   "metadata": {},
   "source": []
  },
  {
   "cell_type": "code",
   "execution_count": 5,
   "id": "4e9eb38a",
   "metadata": {},
   "outputs": [
    {
     "ename": "SyntaxError",
     "evalue": "cannot assign to operator (2252822984.py, line 1)",
     "output_type": "error",
     "traceback": [
      "\u001b[1;36m  Input \u001b[1;32mIn [5]\u001b[1;36m\u001b[0m\n\u001b[1;33m    Z-Score= xbar-mu/(sigma/root n)\u001b[0m\n\u001b[1;37m    ^\u001b[0m\n\u001b[1;31mSyntaxError\u001b[0m\u001b[1;31m:\u001b[0m cannot assign to operator\n"
     ]
    }
   ],
   "source": [
    "Z-Score= xbar-mu/(sigma/root n)"
   ]
  },
  {
   "cell_type": "code",
   "execution_count": 6,
   "id": "b1bb5766",
   "metadata": {},
   "outputs": [],
   "source": [
    "import numpy as np\n",
    "import scipy.stats as stats"
   ]
  },
  {
   "cell_type": "code",
   "execution_count": 7,
   "id": "ca1cbe05",
   "metadata": {},
   "outputs": [],
   "source": [
    "sample_mean=110\n",
    "population_mean=100\n",
    "population_std=15\n",
    "sample_size=50\n",
    "alpha=0.05"
   ]
  },
  {
   "cell_type": "code",
   "execution_count": 8,
   "id": "2031a2e7",
   "metadata": {},
   "outputs": [],
   "source": [
    "z_score=(sample_mean-population_mean)/(population_std/np.sqrt(50))"
   ]
  },
  {
   "cell_type": "code",
   "execution_count": 9,
   "id": "544b1352",
   "metadata": {},
   "outputs": [
    {
     "data": {
      "text/plain": [
       "4.714045207910317"
      ]
     },
     "execution_count": 9,
     "metadata": {},
     "output_type": "execute_result"
    }
   ],
   "source": [
    "z_score"
   ]
  },
  {
   "cell_type": "code",
   "execution_count": null,
   "id": "8d1edec4",
   "metadata": {},
   "outputs": [],
   "source": []
  },
  {
   "cell_type": "code",
   "execution_count": 10,
   "id": "d467a334",
   "metadata": {},
   "outputs": [],
   "source": [
    "#now cal z critical value"
   ]
  },
  {
   "cell_type": "code",
   "execution_count": 11,
   "id": "ccfd2c59",
   "metadata": {},
   "outputs": [],
   "source": [
    "z_critical=stats.norm.ppf(0.95)"
   ]
  },
  {
   "cell_type": "code",
   "execution_count": 12,
   "id": "8079bd7e",
   "metadata": {},
   "outputs": [
    {
     "data": {
      "text/plain": [
       "1.6448536269514722"
      ]
     },
     "execution_count": 12,
     "metadata": {},
     "output_type": "execute_result"
    }
   ],
   "source": [
    "z_critical"
   ]
  },
  {
   "cell_type": "code",
   "execution_count": 13,
   "id": "cee89c18",
   "metadata": {},
   "outputs": [
    {
     "name": "stdout",
     "output_type": "stream",
     "text": [
      "Reject the null hypothesis\n"
     ]
    }
   ],
   "source": [
    "if z_score>z_critical:\n",
    "    print(\"Reject the null hypothesis\")\n",
    "else:\n",
    "    print(\"Accept the null hypothesis\")"
   ]
  },
  {
   "cell_type": "code",
   "execution_count": null,
   "id": "5cbbe5f7",
   "metadata": {},
   "outputs": [],
   "source": []
  },
  {
   "cell_type": "code",
   "execution_count": null,
   "id": "b885b6f2",
   "metadata": {},
   "outputs": [],
   "source": [
    "#Pvalue CALculation"
   ]
  },
  {
   "cell_type": "code",
   "execution_count": null,
   "id": "8db9384f",
   "metadata": {},
   "outputs": [],
   "source": [
    "#P value > alpha ACCEPT, ELSE REJECT"
   ]
  },
  {
   "cell_type": "code",
   "execution_count": 14,
   "id": "fe4937b0",
   "metadata": {},
   "outputs": [],
   "source": [
    "p_value=1-0.9999966"
   ]
  },
  {
   "cell_type": "code",
   "execution_count": 15,
   "id": "3899fc67",
   "metadata": {},
   "outputs": [
    {
     "name": "stdout",
     "output_type": "stream",
     "text": [
      "Reject the null hypothesis\n"
     ]
    }
   ],
   "source": [
    "if p_value > alpha:\n",
    "    print(\"Fail to reject the null hypothesis\")\n",
    "else:\n",
    "    print(\"Reject the null hypothesis\")"
   ]
  },
  {
   "cell_type": "code",
   "execution_count": null,
   "id": "f7323d49",
   "metadata": {},
   "outputs": [],
   "source": []
  },
  {
   "cell_type": "code",
   "execution_count": 16,
   "id": "acc97365",
   "metadata": {},
   "outputs": [],
   "source": [
    "from numpy.random import randn\n",
    "mydata=randn(500)"
   ]
  },
  {
   "cell_type": "code",
   "execution_count": 17,
   "id": "031c3700",
   "metadata": {},
   "outputs": [
    {
     "name": "stdout",
     "output_type": "stream",
     "text": [
      "[-8.42521349e-01 -9.20272043e-01 -1.71530671e+00 -1.22527231e+00\n",
      " -8.32968948e-01 -5.58685448e-01  1.51889553e+00  1.09905771e+00\n",
      " -4.24097456e-01 -3.97114239e-01  1.35375362e-01 -7.18381779e-01\n",
      "  9.83421665e-01  1.14043979e+00 -4.55018272e-01 -7.71341125e-01\n",
      " -1.59313818e+00 -6.54904551e-01  9.47770540e-01  1.63893767e-01\n",
      " -1.31064379e+00  7.48407984e-01  2.13293145e-01  6.98374928e-01\n",
      " -3.96136186e-01  7.80229291e-01  1.58452609e+00  1.51246456e+00\n",
      " -1.84739390e+00 -1.29994158e-01 -4.37011232e-01 -1.57990102e+00\n",
      "  8.74142956e-01  7.69921968e-01  1.54958950e+00  5.52110848e-02\n",
      " -1.28343269e-02 -1.15500747e-01  2.68403180e-01 -9.89419269e-01\n",
      "  2.72420493e-01 -3.59952812e-01 -2.83027716e-02  1.00758765e+00\n",
      " -1.43554668e+00  6.03942731e-03 -2.31842122e+00  4.87538627e-01\n",
      " -7.78889882e-01  7.14718515e-01  4.34537978e-01 -5.81716826e-01\n",
      " -1.53135573e-02  1.37835163e+00 -1.02341223e+00  3.05470850e-01\n",
      "  3.96806610e-01  6.25049991e-01 -5.33213349e-01 -7.48826094e-01\n",
      " -2.86990121e-01 -1.71671454e+00  5.48188823e-01 -1.24046130e+00\n",
      "  7.53982064e-01  7.10400962e-01  1.66484356e+00 -5.06078465e-01\n",
      " -1.70149646e-01 -5.45554824e-01 -1.46772301e+00 -5.16586849e-01\n",
      " -8.97160001e-01 -9.32634624e-01 -2.40207173e-01 -3.10905170e-01\n",
      " -3.76252060e-01  4.57412011e-02 -1.61195058e+00 -1.19708667e+00\n",
      "  2.08175568e+00  9.09134834e-01  9.85878161e-02  2.64274530e+00\n",
      "  6.67344692e-01 -4.02973424e-01 -5.44584744e-01 -4.62455599e-01\n",
      "  2.15509311e-01  1.68434372e+00  1.10280059e+00 -2.44095938e+00\n",
      " -9.88442693e-02  8.43695417e-01  2.15910337e-01 -2.47895071e-01\n",
      "  1.39791074e+00  9.35532461e-01 -2.27884573e-01  8.92175853e-01\n",
      " -2.70896595e-01 -8.46066765e-01  9.43458562e-01 -1.69740100e+00\n",
      " -8.71076615e-01 -1.30335095e-01  1.88506242e-01  3.67427085e-01\n",
      " -1.24094323e+00 -2.34147538e-01  2.28646714e-01 -9.52290706e-01\n",
      " -9.08090616e-01  1.46951581e+00  9.66320475e-01 -1.26598799e+00\n",
      "  4.23658152e-01  2.20035517e-01 -2.67351622e-01  1.73700408e+00\n",
      " -3.24613407e-01  4.43973469e-01  1.42432681e+00 -8.09322246e-01\n",
      "  7.61742471e-01 -9.61987659e-01  3.53630160e-01 -6.88687722e-01\n",
      " -6.09988674e-01  7.91037548e-02  4.33913402e-01 -5.23637374e-01\n",
      "  2.73467759e-01  1.32093153e-01 -2.09714341e-01 -1.20864842e-01\n",
      " -5.03499890e-01  1.23807404e+00 -3.86650183e-01 -7.89879157e-01\n",
      " -5.89177634e-01  5.45726313e-01 -7.52606026e-01  4.49086068e-01\n",
      "  4.86508125e-01 -1.55199356e-01  4.82796824e-01 -3.01930306e+00\n",
      "  1.27673209e+00  1.06481018e+00 -6.22152858e-01  2.23294799e-01\n",
      "  6.70569251e-01 -9.43871237e-02 -2.02079030e-01  9.48371468e-01\n",
      "  1.22871066e+00  9.19994184e-01 -5.04165491e-02  2.86676487e-01\n",
      "  4.67863816e-01  1.12559856e+00  2.38856182e+00 -1.40454874e-01\n",
      " -3.74609749e-01 -1.44900962e-01 -1.42348191e+00  4.41238478e-01\n",
      " -1.16965231e+00 -5.61870559e-01  8.00699490e-01  1.09508485e+00\n",
      " -2.67621523e-01 -7.85684978e-01  1.03764195e+00 -4.05431536e-01\n",
      "  1.94027817e+00  4.58344893e-02  3.96201953e-01  6.66915197e-01\n",
      "  1.99579442e-02  1.77000133e+00 -1.70731874e+00 -3.61241166e-01\n",
      " -7.04292931e-01 -1.00958979e+00 -1.04252243e+00 -6.51578899e-01\n",
      " -5.32604004e-01  1.04030505e+00 -9.85740653e-01 -3.55916776e-01\n",
      " -6.98574020e-01 -4.93048626e-01  7.53690685e-01 -3.10920820e+00\n",
      " -2.93701073e+00  1.60514228e+00 -1.94003368e+00  6.62787164e-01\n",
      " -1.12110965e+00  2.17209267e-01  6.28349833e-01 -9.93335277e-01\n",
      " -1.38087195e+00 -1.00646695e-01  5.03378279e-01  5.97522563e-01\n",
      "  7.88459382e-03 -1.38890557e+00 -3.40464669e-01  2.36102227e-01\n",
      " -1.84701987e+00 -1.39141344e-01  4.33571604e-02  1.01883459e+00\n",
      "  3.33793669e-01 -4.53110458e-02  4.42115318e-02  1.79805887e+00\n",
      " -2.03399119e+00  5.13597792e-01  1.00806933e-01  3.02251885e+00\n",
      "  6.76047053e-01 -8.91246226e-01 -2.59995377e-01  8.76774563e-01\n",
      "  1.03809955e+00  1.28592574e+00  1.08912944e+00  9.40767567e-01\n",
      "  1.45257209e+00 -9.30776491e-02  2.01262235e-01 -1.26168060e+00\n",
      " -3.39951130e-01 -4.72342042e-01  1.14433173e+00  6.12894327e-01\n",
      "  1.57894192e+00 -1.22593141e+00  2.16888060e+00 -5.35159272e-02\n",
      "  1.58949757e+00  4.43548321e-01  3.47831653e-01 -2.18931365e+00\n",
      " -1.39843360e+00  6.40227777e-01  6.90781444e-01 -3.40900196e-01\n",
      "  1.00918037e+00  1.47369475e+00 -5.41488067e-01 -8.55955949e-01\n",
      " -1.03998319e+00  1.01045291e+00 -9.17161538e-01  8.24418525e-01\n",
      " -8.32784829e-01 -3.56128183e-01  4.44462686e-01 -8.46558600e-01\n",
      "  8.00028835e-01 -1.54477383e+00  1.14534732e+00  5.97838823e-01\n",
      "  5.33791504e-01 -5.27655011e-01  9.55861012e-01  5.52577815e-02\n",
      " -1.39676476e+00 -6.46155311e-01 -1.40206439e+00  2.74215746e+00\n",
      " -1.24553637e+00 -4.97906691e-01  6.98075929e-01  1.17604123e+00\n",
      " -9.20564302e-01  1.63103441e+00 -5.14065033e-01 -1.22414744e-02\n",
      "  9.73956867e-01  5.57874738e-01 -3.71787179e-01 -1.09104467e-01\n",
      "  9.49501978e-01 -1.89688910e-01  1.58040805e-01 -1.06538918e+00\n",
      "  2.60899462e-01  5.97427514e-01  1.26181162e+00  1.25946932e+00\n",
      " -6.28871347e-01  3.07119957e-03 -1.65084867e+00 -2.24880917e-01\n",
      " -4.41711041e-01 -3.70772453e-02 -1.39322456e+00 -7.11794395e-02\n",
      " -1.23135330e+00  1.90478995e+00  4.71940245e-01 -1.23830880e-01\n",
      " -8.91574705e-01 -5.58975411e-02 -8.84049399e-01 -6.34358446e-01\n",
      "  9.64256863e-01 -8.66580106e-01  1.33881476e+00 -1.33446008e+00\n",
      "  4.90766307e-01  5.67327453e-02  1.12612903e+00  2.40925982e-01\n",
      "  2.56483169e-01  3.44678905e-01 -1.23292154e+00  8.94069420e-01\n",
      "  5.41470908e-01 -5.92322259e-01  1.60502166e+00 -5.89204211e-01\n",
      " -2.36707467e-01 -4.67676554e-01 -3.39692819e-01  1.27844002e+00\n",
      "  1.82410816e-01  2.34539333e-01 -1.28767370e+00  6.44580426e-01\n",
      "  1.11792164e+00  6.87443436e-01  1.59295474e+00 -4.28663123e-01\n",
      "  3.68352848e-01  2.20903830e+00 -6.09034754e-01  1.37915900e+00\n",
      "  1.88800161e-01 -1.92715496e-01  1.32217177e+00 -1.44124436e+00\n",
      "  5.76529087e-01  1.48976003e-02 -4.10163054e-01 -2.98646970e-02\n",
      " -1.34819294e-01  8.93841769e-01 -3.55904961e-01  2.88085581e-01\n",
      " -1.90531823e+00  8.04962090e-01 -7.43206076e-01  8.07976034e-01\n",
      "  2.36363007e-01 -3.56037562e-01  1.48048661e+00  2.79364566e+00\n",
      "  8.91646352e-02 -1.39338156e+00 -1.13371239e+00 -1.04096131e+00\n",
      "  1.42230951e+00 -3.74391536e-01 -4.07726639e-01 -5.86605820e-01\n",
      "  8.56506200e-01 -1.01918439e+00  1.62178143e+00 -3.18006585e-01\n",
      "  8.01757461e-01  5.71170335e-01 -1.76969875e+00 -2.01867397e+00\n",
      " -1.80915569e+00 -6.42066401e-02 -7.66264408e-01 -8.42155626e-01\n",
      "  4.36875831e-01  6.97850753e-01  3.95524973e-02  2.54676523e-03\n",
      "  1.67012194e-01 -1.31191135e+00 -2.85670201e-01  5.82758662e-01\n",
      " -1.56558364e+00  1.32779218e+00  4.21440423e-01  2.61933704e+00\n",
      "  9.57511883e-02 -1.11610951e+00 -9.38384432e-01  1.39240674e-02\n",
      " -7.63375861e-01 -1.33773571e-02 -2.32777502e-01 -4.43744130e-01\n",
      "  1.49247362e-01 -9.18184528e-01  4.83735109e-01  2.70447228e+00\n",
      " -1.28482821e+00  1.38558057e+00 -5.41720012e-01  4.93043042e-01\n",
      "  1.11924428e+00 -5.40558652e-01 -2.07144985e+00  8.33151237e-01\n",
      " -8.74316113e-02  2.14400250e-01 -1.36499391e+00 -8.00345953e-01\n",
      "  7.60234945e-02 -6.21578493e-01 -1.13889778e+00 -3.55458385e-01\n",
      "  7.64365066e-01 -7.89010198e-01 -2.92117788e-01 -2.01881202e-01\n",
      " -1.16112453e+00 -1.39543611e+00 -1.92969929e+00 -8.43051467e-01\n",
      "  8.89325084e-02 -1.06467671e+00  8.39155826e-01 -2.76867668e+00\n",
      " -2.06588336e+00  1.42018709e+00  4.80027267e-02  3.42929047e-01\n",
      " -1.10497224e-01 -1.59287218e+00 -9.72207102e-01 -7.67391927e-01\n",
      " -3.14975877e-02 -5.01544643e-01  3.36597609e-01  3.43967501e-01\n",
      " -1.19696453e+00  3.42448889e-01 -2.02402840e+00 -6.93525598e-01\n",
      "  3.39131506e-01 -2.40667336e-01 -5.47763996e-01  8.20983114e-01\n",
      "  1.04321384e+00 -1.40102217e+00 -2.41018255e-01 -1.55840399e+00\n",
      "  1.82898838e-01  1.13041361e+00 -2.81664477e-01 -7.78296223e-01\n",
      "  8.63336416e-01 -2.04520315e+00  1.21579615e+00  4.70449440e-01\n",
      "  3.56784199e-01 -5.60722003e-01  2.49525187e-01  6.04553456e-01\n",
      " -6.99231577e-02 -9.23688247e-01  1.51893644e-01 -5.31655983e-01\n",
      "  3.57618870e-01  2.12872450e-01  3.40618663e-01 -2.04444240e-01\n",
      "  9.53245638e-01 -1.28253322e+00 -1.93378533e-01  8.78081805e-01\n",
      " -1.65311884e+00 -8.92277037e-01 -5.18505975e-01 -2.02743445e-01\n",
      "  2.86229097e-01 -1.87579776e+00  1.73225570e+00 -7.48425297e-01\n",
      " -1.58407573e+00 -2.00354744e+00 -9.56484835e-01  4.17257784e-01\n",
      " -1.27319347e+00  1.47234015e-01  6.80433429e-01 -5.25731902e-01]\n"
     ]
    }
   ],
   "source": [
    "print(mydata)"
   ]
  },
  {
   "cell_type": "code",
   "execution_count": 18,
   "id": "5b20d44c",
   "metadata": {},
   "outputs": [],
   "source": [
    "import seaborn as sns"
   ]
  },
  {
   "cell_type": "code",
   "execution_count": 19,
   "id": "91847482",
   "metadata": {},
   "outputs": [
    {
     "name": "stderr",
     "output_type": "stream",
     "text": [
      "C:\\Users\\91983\\anaconda3\\lib\\site-packages\\seaborn\\distributions.py:2619: FutureWarning: `distplot` is a deprecated function and will be removed in a future version. Please adapt your code to use either `displot` (a figure-level function with similar flexibility) or `histplot` (an axes-level function for histograms).\n",
      "  warnings.warn(msg, FutureWarning)\n"
     ]
    },
    {
     "data": {
      "text/plain": [
       "<AxesSubplot:ylabel='Density'>"
      ]
     },
     "execution_count": 19,
     "metadata": {},
     "output_type": "execute_result"
    },
    {
     "data": {
      "image/png": "[encoded data removed]",
      "text/plain": [
       "<Figure size 432x288 with 1 Axes>"
      ]
     },
     "metadata": {
      "needs_background": "light"
     },
     "output_type": "display_data"
    }
   ],
   "source": [
    "sns.distplot(mydata)"
   ]
  },
  {
   "cell_type": "code",
   "execution_count": 20,
   "id": "502042cf",
   "metadata": {},
   "outputs": [],
   "source": [
    "from scipy import stats"
   ]
  },
  {
   "cell_type": "code",
   "execution_count": 21,
   "id": "11306528",
   "metadata": {},
   "outputs": [
    {
     "data": {
      "text/plain": [
       "NormaltestResult(statistic=0.4536089712931036, pvalue=0.7970766069741233)"
      ]
     },
     "execution_count": 21,
     "metadata": {},
     "output_type": "execute_result"
    }
   ],
   "source": [
    "stats.normaltest(mydata)"
   ]
  },
  {
   "cell_type": "code",
   "execution_count": 22,
   "id": "5ee7a249",
   "metadata": {},
   "outputs": [],
   "source": [
    "#SO HERE BASED ON P VALUE WE CAN DECIDE WHETHER TO ACCEPT/REJECT NULL HYPOTHESIS"
   ]
  },
  {
   "cell_type": "code",
   "execution_count": 23,
   "id": "57ead0ea",
   "metadata": {},
   "outputs": [],
   "source": [
    "sample_mean_iq=110\n",
    "alpha=0.05\n",
    "CI=0.95\n"
   ]
  },
  {
   "cell_type": "code",
   "execution_count": 24,
   "id": "53e1ff7e",
   "metadata": {},
   "outputs": [],
   "source": [
    "mean_population=100\n",
    "population_std=15"
   ]
  },
  {
   "cell_type": "code",
   "execution_count": 25,
   "id": "1e83878d",
   "metadata": {},
   "outputs": [],
   "source": [
    "data=population_std*randn(50)+sample_mean_iq"
   ]
  },
  {
   "cell_type": "code",
   "execution_count": 26,
   "id": "cee1aff0",
   "metadata": {},
   "outputs": [
    {
     "data": {
      "text/plain": [
       "array([131.81458777, 111.50434717,  97.42212462, 141.43979945,\n",
       "       123.31716284, 134.65829054, 120.08595596, 100.49443915,\n",
       "       118.66231461, 106.77494748, 103.73848269, 131.66607473,\n",
       "        94.30040195, 129.38088866, 121.45439561, 103.5441755 ,\n",
       "       122.31646903, 119.48194223, 100.17002086, 113.77334068,\n",
       "        91.57272661, 108.1171065 ,  79.26652565, 122.85777333,\n",
       "       117.87562857, 109.59030981, 113.40538394, 126.51151309,\n",
       "       104.61466098, 114.38459925,  92.28508395, 113.4736382 ,\n",
       "        86.29363323, 109.8900638 ,  87.63694355,  98.68751021,\n",
       "       130.70448614, 105.23997859,  80.91703811,  97.10029375,\n",
       "       132.33545249, 115.46162876, 114.83196236, 124.25496965,\n",
       "        99.41370973, 106.58738047,  92.80961291,  85.62634375,\n",
       "       125.96758702, 117.49501495])"
      ]
     },
     "execution_count": 26,
     "metadata": {},
     "output_type": "execute_result"
    }
   ],
   "source": [
    "data"
   ]
  },
  {
   "cell_type": "code",
   "execution_count": 27,
   "id": "b174ae28",
   "metadata": {},
   "outputs": [
    {
     "data": {
      "text/plain": [
       "110.62417441771555"
      ]
     },
     "execution_count": 27,
     "metadata": {},
     "output_type": "execute_result"
    }
   ],
   "source": [
    "np.mean(data)"
   ]
  },
  {
   "cell_type": "code",
   "execution_count": 28,
   "id": "e99c3dd2",
   "metadata": {},
   "outputs": [
    {
     "data": {
      "text/plain": [
       "14.987416063832807"
      ]
     },
     "execution_count": 28,
     "metadata": {},
     "output_type": "execute_result"
    }
   ],
   "source": [
    "np.std(data)"
   ]
  },
  {
   "cell_type": "code",
   "execution_count": 29,
   "id": "1ef60ba1",
   "metadata": {},
   "outputs": [],
   "source": [
    "null_hypothesis=mean_population"
   ]
  },
  {
   "cell_type": "code",
   "execution_count": 30,
   "id": "3b1fd8d1",
   "metadata": {},
   "outputs": [
    {
     "data": {
      "text/plain": [
       "(4.962110920739331, 3.486557617729213e-07)"
      ]
     },
     "execution_count": 30,
     "metadata": {},
     "output_type": "execute_result"
    }
   ],
   "source": [
    "from statsmodels.stats.weightstats import ztest\n",
    "ztest(data,value=null_hypothesis,alternative=\"larger\")"
   ]
  },
  {
   "cell_type": "markdown",
   "id": "72ef5055",
   "metadata": {},
   "source": [
    "-----------------------------------------------------------------------------------------------"
   ]
  },
  {
   "cell_type": "markdown",
   "id": "de2050c7",
   "metadata": {},
   "source": [
    "one-sample t test(with respect to one independent sample)\n",
    "\n",
    "two- sample t test(with respect to two independent sample)\n",
    "\n",
    "paried t-test(two sample from the same populatoin on a different time interval)"
   ]
  },
  {
   "cell_type": "code",
   "execution_count": 31,
   "id": "d4c4cb3a",
   "metadata": {},
   "outputs": [],
   "source": [
    "my_cricket_score=[22,38,19,15,48,11,10,49,47,38,10,25,46,10,21,24,29,36,25,25]"
   ]
  },
  {
   "cell_type": "code",
   "execution_count": 32,
   "id": "ec0fe959",
   "metadata": {},
   "outputs": [
    {
     "data": {
      "text/plain": [
       "20"
      ]
     },
     "execution_count": 32,
     "metadata": {},
     "output_type": "execute_result"
    }
   ],
   "source": [
    "len(my_cricket_score)"
   ]
  },
  {
   "cell_type": "code",
   "execution_count": 33,
   "id": "039bd774",
   "metadata": {},
   "outputs": [
    {
     "data": {
      "text/plain": [
       "27.4"
      ]
     },
     "execution_count": 33,
     "metadata": {},
     "output_type": "execute_result"
    }
   ],
   "source": [
    "np.mean(my_cricket_score)"
   ]
  },
  {
   "cell_type": "code",
   "execution_count": 34,
   "id": "c101a204",
   "metadata": {},
   "outputs": [],
   "source": [
    "sample_mean=27.4"
   ]
  },
  {
   "cell_type": "code",
   "execution_count": null,
   "id": "50d657ed",
   "metadata": {},
   "outputs": [],
   "source": [
    "# null_hypothesis=>>population mean/true=sample mean "
   ]
  },
  {
   "cell_type": "code",
   "execution_count": 37,
   "id": "9bf97047",
   "metadata": {},
   "outputs": [],
   "source": [
    "import scipy\n",
    "result=scipy.stats.ttest_1samp(my_cricket_score,15)"
   ]
  },
  {
   "cell_type": "code",
   "execution_count": 38,
   "id": "28d9887f",
   "metadata": {},
   "outputs": [
    {
     "data": {
      "text/plain": [
       "Ttest_1sampResult(statistic=4.131642363779888, pvalue=0.0005672503150661017)"
      ]
     },
     "execution_count": 38,
     "metadata": {},
     "output_type": "execute_result"
    }
   ],
   "source": [
    "result"
   ]
  },
  {
   "cell_type": "code",
   "execution_count": 39,
   "id": "c608d03e",
   "metadata": {},
   "outputs": [],
   "source": [
    "p_value=result[1]"
   ]
  },
  {
   "cell_type": "code",
   "execution_count": 40,
   "id": "a7ef6354",
   "metadata": {},
   "outputs": [
    {
     "name": "stdout",
     "output_type": "stream",
     "text": [
      "reject the null hyphothesis\n"
     ]
    }
   ],
   "source": [
    "if p_value<=0.05:\n",
    "    print(\"reject the null hyphothesis\")\n",
    "\n",
    "else:\n",
    "    print(\"accept the null hyphthesis\")"
   ]
  },
  {
   "cell_type": "code",
   "execution_count": null,
   "id": "794f16d0",
   "metadata": {},
   "outputs": [],
   "source": []
  },
  {
   "cell_type": "code",
   "execution_count": null,
   "id": "8f8d0875",
   "metadata": {},
   "outputs": [],
   "source": []
  },
  {
   "cell_type": "code",
   "execution_count": 41,
   "id": "aabb5a49",
   "metadata": {},
   "outputs": [],
   "source": [
    "#two-sample t test(with respect to two independent sample)\n",
    "my_cricket_score=[22, 38, 29, 45, 48, 41, 40, 49, 47, 38, 20, 45, 46, 50, 21, 44, 29,36, 25, 24]\n",
    "\n",
    "virat_cricket_score=[33, 45, 23, 25, 46, 46, 46, 49, 49, 44, 44, 49, 25, 31, 25, 40, 30,20, 42, 37]"
   ]
  },
  {
   "cell_type": "code",
   "execution_count": 42,
   "id": "7fb376a1",
   "metadata": {},
   "outputs": [],
   "source": [
    "first_sample_mean=np.mean(my_cricket_score)"
   ]
  },
  {
   "cell_type": "code",
   "execution_count": 43,
   "id": "d5d54423",
   "metadata": {},
   "outputs": [
    {
     "data": {
      "text/plain": [
       "36.85"
      ]
     },
     "execution_count": 43,
     "metadata": {},
     "output_type": "execute_result"
    }
   ],
   "source": [
    "first_sample_mean"
   ]
  },
  {
   "cell_type": "code",
   "execution_count": 44,
   "id": "db3564d8",
   "metadata": {},
   "outputs": [],
   "source": [
    "second_sample_mean=np.mean(virat_cricket_score)"
   ]
  },
  {
   "cell_type": "code",
   "execution_count": 45,
   "id": "702b7451",
   "metadata": {},
   "outputs": [
    {
     "data": {
      "text/plain": [
       "37.45"
      ]
     },
     "execution_count": 45,
     "metadata": {},
     "output_type": "execute_result"
    }
   ],
   "source": [
    "second_sample_mean"
   ]
  },
  {
   "cell_type": "code",
   "execution_count": null,
   "id": "7a14aad0",
   "metadata": {},
   "outputs": [],
   "source": [
    "my_null_hyphthesis=both sample mean will be equal"
   ]
  },
  {
   "cell_type": "code",
   "execution_count": 46,
   "id": "df0f6eeb",
   "metadata": {},
   "outputs": [],
   "source": [
    "t_stats,pvalue=scipy.stats.ttest_ind(my_cricket_score,virat_cricket_score)"
   ]
  },
  {
   "cell_type": "code",
   "execution_count": 47,
   "id": "53a04f81",
   "metadata": {},
   "outputs": [
    {
     "data": {
      "text/plain": [
       "0.852719896255562"
      ]
     },
     "execution_count": 47,
     "metadata": {},
     "output_type": "execute_result"
    }
   ],
   "source": [
    "pvalue"
   ]
  },
  {
   "cell_type": "code",
   "execution_count": 48,
   "id": "a1544d5c",
   "metadata": {},
   "outputs": [
    {
     "name": "stdout",
     "output_type": "stream",
     "text": [
      "Accept the null hyphothesis\n"
     ]
    }
   ],
   "source": [
    "if pvalue<=0.05:\n",
    "    print(\"reject the null hyphothesis\")\n",
    "else:\n",
    "    print(\"Accept the null hyphothesis\")"
   ]
  },
  {
   "cell_type": "code",
   "execution_count": null,
   "id": "639519f5",
   "metadata": {},
   "outputs": [],
   "source": []
  },
  {
   "cell_type": "code",
   "execution_count": null,
   "id": "3d4d9861",
   "metadata": {},
   "outputs": [],
   "source": []
  },
  {
   "cell_type": "code",
   "execution_count": 49,
   "id": "95a6f6ba",
   "metadata": {},
   "outputs": [],
   "source": [
    "import random\n",
    "population=[]\n",
    "for i in range(1,51):\n",
    "    population.append(random.randint(10,80))"
   ]
  },
  {
   "cell_type": "code",
   "execution_count": 50,
   "id": "53ccd39c",
   "metadata": {},
   "outputs": [
    {
     "data": {
      "text/plain": [
       "50"
      ]
     },
     "execution_count": 50,
     "metadata": {},
     "output_type": "execute_result"
    }
   ],
   "source": [
    "len(population)"
   ]
  },
  {
   "cell_type": "code",
   "execution_count": 51,
   "id": "10fe90d2",
   "metadata": {},
   "outputs": [],
   "source": [
    "my_cricket_score_from_first_inning=np.random.choice(population,size=20)"
   ]
  },
  {
   "cell_type": "code",
   "execution_count": 52,
   "id": "677e3932",
   "metadata": {},
   "outputs": [],
   "source": [
    "my_cricket_score_from_second_inning=np.random.choice(population,size=20)"
   ]
  },
  {
   "cell_type": "code",
   "execution_count": 53,
   "id": "e1a9bb6f",
   "metadata": {},
   "outputs": [
    {
     "name": "stdout",
     "output_type": "stream",
     "text": [
      "[78 60 28 10 75 25 29 39 54 68 61 25 75 77 24 70 69 72 64 69]\n",
      "[19 15 42 69 64 76 75 71 76 75 22 40 25 66 64 36 10 34 25 52]\n"
     ]
    }
   ],
   "source": [
    "# paired sample t test\n",
    "# take a sample from sample population on different time interval\n",
    "\n",
    "print(my_cricket_score_from_first_inning)\n",
    "print(my_cricket_score_from_second_inning)"
   ]
  },
  {
   "cell_type": "code",
   "execution_count": 54,
   "id": "5f2b1d90",
   "metadata": {},
   "outputs": [
    {
     "data": {
      "text/plain": [
       "53.6"
      ]
     },
     "execution_count": 54,
     "metadata": {},
     "output_type": "execute_result"
    }
   ],
   "source": [
    "np.mean(my_cricket_score_from_first_inning)"
   ]
  },
  {
   "cell_type": "code",
   "execution_count": 55,
   "id": "ba5674b0",
   "metadata": {},
   "outputs": [
    {
     "data": {
      "text/plain": [
       "47.8"
      ]
     },
     "execution_count": 55,
     "metadata": {},
     "output_type": "execute_result"
    }
   ],
   "source": [
    "np.mean(my_cricket_score_from_second_inning)"
   ]
  },
  {
   "cell_type": "code",
   "execution_count": 56,
   "id": "421afc8b",
   "metadata": {},
   "outputs": [],
   "source": [
    "#my_null_hyphthesis=both sample mean will be equal"
   ]
  },
  {
   "cell_type": "code",
   "execution_count": 57,
   "id": "6eedffc0",
   "metadata": {},
   "outputs": [],
   "source": [
    "t_stats,p_value=scipy.stats.ttest_rel(my_cricket_score_from_first_inning,my_cricket_score_from_second_inning)"
   ]
  },
  {
   "cell_type": "code",
   "execution_count": 58,
   "id": "3982c0db",
   "metadata": {},
   "outputs": [
    {
     "data": {
      "text/plain": [
       "0.5130072850065259"
      ]
     },
     "execution_count": 58,
     "metadata": {},
     "output_type": "execute_result"
    }
   ],
   "source": [
    "p_value"
   ]
  },
  {
   "cell_type": "code",
   "execution_count": 59,
   "id": "e6c9e673",
   "metadata": {},
   "outputs": [
    {
     "name": "stdout",
     "output_type": "stream",
     "text": [
      "Accept the null hyphothesis\n"
     ]
    }
   ],
   "source": [
    "if p_value<=0.05:\n",
    "    print(\"reject the null hyphothesis\")\n",
    "else:\n",
    "    print(\"Accept the null hyphothesis\")"
   ]
  },
  {
   "cell_type": "code",
   "execution_count": null,
   "id": "47e5febf",
   "metadata": {},
   "outputs": [],
   "source": []
  },
  {
   "cell_type": "code",
   "execution_count": null,
   "id": "552b0538",
   "metadata": {},
   "outputs": [],
   "source": []
  },
  {
   "cell_type": "code",
   "execution_count": 3,
   "id": "c4e30283",
   "metadata": {},
   "outputs": [],
   "source": [
    "import random\n",
    "import numpy as np\n",
    "population=[]\n",
    "\n",
    "for i in range(1,51):\n",
    "    population.append(np.random.randint(10,40))"
   ]
  },
  {
   "cell_type": "code",
   "execution_count": 5,
   "id": "bd5ffeeb",
   "metadata": {},
   "outputs": [
    {
     "data": {
      "text/plain": [
       "50"
      ]
     },
     "execution_count": 5,
     "metadata": {},
     "output_type": "execute_result"
    }
   ],
   "source": [
    "len(population)"
   ]
  },
  {
   "cell_type": "code",
   "execution_count": 10,
   "id": "58366486",
   "metadata": {},
   "outputs": [],
   "source": [
    "firstsample=np.random.choice(population,20)\n",
    "secondsample=np.random.choice(population,20)"
   ]
  },
  {
   "cell_type": "code",
   "execution_count": 11,
   "id": "342e99b6",
   "metadata": {},
   "outputs": [
    {
     "data": {
      "text/plain": [
       "array([20, 33, 14, 10, 14, 14, 29, 28, 23, 39, 17, 18, 24, 13, 39, 28, 17,\n",
       "       14, 29, 24])"
      ]
     },
     "execution_count": 11,
     "metadata": {},
     "output_type": "execute_result"
    }
   ],
   "source": [
    "firstsample"
   ]
  },
  {
   "cell_type": "code",
   "execution_count": 12,
   "id": "a0261116",
   "metadata": {},
   "outputs": [
    {
     "data": {
      "text/plain": [
       "array([24, 10, 11, 15, 34, 23, 29, 23, 17, 17, 37, 28, 24, 33, 21, 21, 30,\n",
       "       26, 34, 28])"
      ]
     },
     "execution_count": 12,
     "metadata": {},
     "output_type": "execute_result"
    }
   ],
   "source": [
    "secondsample"
   ]
  },
  {
   "cell_type": "code",
   "execution_count": 15,
   "id": "71be77b8",
   "metadata": {},
   "outputs": [],
   "source": [
    "import scipy\n",
    "\n",
    "import scipy.stats as stats"
   ]
  },
  {
   "cell_type": "code",
   "execution_count": 17,
   "id": "1d58be6d",
   "metadata": {},
   "outputs": [],
   "source": [
    "result=scipy.stats.ttest_rel(firstsample,secondsample)"
   ]
  },
  {
   "cell_type": "code",
   "execution_count": 19,
   "id": "c6806aa9",
   "metadata": {},
   "outputs": [],
   "source": [
    "pvalue=result[1]"
   ]
  },
  {
   "cell_type": "code",
   "execution_count": 20,
   "id": "f73064c4",
   "metadata": {},
   "outputs": [
    {
     "data": {
      "text/plain": [
       "0.5178700362051154"
      ]
     },
     "execution_count": 20,
     "metadata": {},
     "output_type": "execute_result"
    }
   ],
   "source": [
    "pvalue"
   ]
  },
  {
   "cell_type": "code",
   "execution_count": 21,
   "id": "36d52e6d",
   "metadata": {},
   "outputs": [
    {
     "name": "stdout",
     "output_type": "stream",
     "text": [
      "Accept the null hypo\n"
     ]
    }
   ],
   "source": [
    "if pvalue>0.05:\n",
    "    print(\"Accept the null hypo\")\n",
    "else:\n",
    "    print(\"Reject the null hypo\")"
   ]
  },
  {
   "cell_type": "code",
   "execution_count": null,
   "id": "cb684852",
   "metadata": {},
   "outputs": [],
   "source": []
  },
  {
   "cell_type": "code",
   "execution_count": null,
   "id": "3687f8a1",
   "metadata": {},
   "outputs": [],
   "source": []
  },
  {
   "cell_type": "markdown",
   "id": "b5929e02",
   "metadata": {},
   "source": [
    "The weights of 25 obese people were taken before enrolling them into the nutrition camp. The population mean weight is found to be 45 kg before starting the camp. After finishing the camp, for the same 25 people, the sample mean was found to be 75 with a standard deviation of 25. Did the fitness camp work?"
   ]
  },
  {
   "cell_type": "code",
   "execution_count": 30,
   "id": "a8f2d426",
   "metadata": {},
   "outputs": [],
   "source": [
    "n=25\n",
    "populaiton_mean=45\n",
    "sample_mean=75\n",
    "sample_std=25"
   ]
  },
  {
   "cell_type": "code",
   "execution_count": 31,
   "id": "b7aeb3f9",
   "metadata": {},
   "outputs": [],
   "source": [
    "\n",
    "import scipy.stats as stats"
   ]
  },
  {
   "cell_type": "code",
   "execution_count": 32,
   "id": "5f350f29",
   "metadata": {},
   "outputs": [],
   "source": [
    "#ho=>>mu1 = mu2\n",
    "#ha=>>mu1 != mu2"
   ]
  },
  {
   "cell_type": "code",
   "execution_count": 33,
   "id": "f443edcd",
   "metadata": {},
   "outputs": [],
   "source": [
    "t_stats=(sample_mean-populaiton_mean)/(sample_std/np.sqrt(n))"
   ]
  },
  {
   "cell_type": "code",
   "execution_count": 34,
   "id": "71548608",
   "metadata": {},
   "outputs": [
    {
     "data": {
      "text/plain": [
       "6.0"
      ]
     },
     "execution_count": 34,
     "metadata": {},
     "output_type": "execute_result"
    }
   ],
   "source": [
    "t_stats"
   ]
  },
  {
   "cell_type": "code",
   "execution_count": 35,
   "id": "5e426166",
   "metadata": {},
   "outputs": [],
   "source": [
    "df=n-1"
   ]
  },
  {
   "cell_type": "code",
   "execution_count": 36,
   "id": "15b8b750",
   "metadata": {},
   "outputs": [
    {
     "data": {
      "text/plain": [
       "24"
      ]
     },
     "execution_count": 36,
     "metadata": {},
     "output_type": "execute_result"
    }
   ],
   "source": [
    "df"
   ]
  },
  {
   "cell_type": "code",
   "execution_count": 37,
   "id": "5781af3c",
   "metadata": {},
   "outputs": [],
   "source": [
    "CI=0.95\n",
    "alpha=0.05"
   ]
  },
  {
   "cell_type": "code",
   "execution_count": 38,
   "id": "b52fcf3d",
   "metadata": {},
   "outputs": [],
   "source": [
    "critical_value=stats.t.ppf(CI,df)"
   ]
  },
  {
   "cell_type": "code",
   "execution_count": 39,
   "id": "c0b55ddd",
   "metadata": {},
   "outputs": [
    {
     "data": {
      "text/plain": [
       "1.7108820799094275"
      ]
     },
     "execution_count": 39,
     "metadata": {},
     "output_type": "execute_result"
    }
   ],
   "source": [
    "critical_value"
   ]
  },
  {
   "cell_type": "code",
   "execution_count": 53,
   "id": "593a9ad9",
   "metadata": {},
   "outputs": [],
   "source": [
    "pvalue=1-stats.t.cdf(t_stats,df)"
   ]
  },
  {
   "cell_type": "code",
   "execution_count": 54,
   "id": "cb746ba5",
   "metadata": {},
   "outputs": [
    {
     "data": {
      "text/plain": [
       "1.703654035845048e-06"
      ]
     },
     "execution_count": 54,
     "metadata": {},
     "output_type": "execute_result"
    }
   ],
   "source": [
    "pvalue"
   ]
  },
  {
   "cell_type": "code",
   "execution_count": null,
   "id": "10a5bb2a",
   "metadata": {},
   "outputs": [],
   "source": []
  },
  {
   "cell_type": "code",
   "execution_count": 56,
   "id": "c1dd2107",
   "metadata": {},
   "outputs": [],
   "source": [
    "import seaborn as sns"
   ]
  },
  {
   "cell_type": "code",
   "execution_count": 57,
   "id": "2aa17f80",
   "metadata": {},
   "outputs": [],
   "source": [
    "dataset=sns.load_dataset('tips')"
   ]
  },
  {
   "cell_type": "code",
   "execution_count": 58,
   "id": "a020577e",
   "metadata": {},
   "outputs": [
    {
     "data": {
      "text/html": [
       "<div>\n",
       "<style scoped>\n",
       "    .dataframe tbody tr th:only-of-type {\n",
       "        vertical-align: middle;\n",
       "    }\n",
       "\n",
       "    .dataframe tbody tr th {\n",
       "        vertical-align: top;\n",
       "    }\n",
       "\n",
       "    .dataframe thead th {\n",
       "        text-align: right;\n",
       "    }\n",
       "</style>\n",
       "<table border=\"1\" class=\"dataframe\">\n",
       "  <thead>\n",
       "    <tr style=\"text-align: right;\">\n",
       "      <th></th>\n",
       "      <th>total_bill</th>\n",
       "      <th>tip</th>\n",
       "      <th>sex</th>\n",
       "      <th>smoker</th>\n",
       "      <th>day</th>\n",
       "      <th>time</th>\n",
       "      <th>size</th>\n",
       "    </tr>\n",
       "  </thead>\n",
       "  <tbody>\n",
       "    <tr>\n",
       "      <th>0</th>\n",
       "      <td>16.99</td>\n",
       "      <td>1.01</td>\n",
       "      <td>Female</td>\n",
       "      <td>No</td>\n",
       "      <td>Sun</td>\n",
       "      <td>Dinner</td>\n",
       "      <td>2</td>\n",
       "    </tr>\n",
       "    <tr>\n",
       "      <th>1</th>\n",
       "      <td>10.34</td>\n",
       "      <td>1.66</td>\n",
       "      <td>Male</td>\n",
       "      <td>No</td>\n",
       "      <td>Sun</td>\n",
       "      <td>Dinner</td>\n",
       "      <td>3</td>\n",
       "    </tr>\n",
       "    <tr>\n",
       "      <th>2</th>\n",
       "      <td>21.01</td>\n",
       "      <td>3.50</td>\n",
       "      <td>Male</td>\n",
       "      <td>No</td>\n",
       "      <td>Sun</td>\n",
       "      <td>Dinner</td>\n",
       "      <td>3</td>\n",
       "    </tr>\n",
       "    <tr>\n",
       "      <th>3</th>\n",
       "      <td>23.68</td>\n",
       "      <td>3.31</td>\n",
       "      <td>Male</td>\n",
       "      <td>No</td>\n",
       "      <td>Sun</td>\n",
       "      <td>Dinner</td>\n",
       "      <td>2</td>\n",
       "    </tr>\n",
       "    <tr>\n",
       "      <th>4</th>\n",
       "      <td>24.59</td>\n",
       "      <td>3.61</td>\n",
       "      <td>Female</td>\n",
       "      <td>No</td>\n",
       "      <td>Sun</td>\n",
       "      <td>Dinner</td>\n",
       "      <td>4</td>\n",
       "    </tr>\n",
       "    <tr>\n",
       "      <th>...</th>\n",
       "      <td>...</td>\n",
       "      <td>...</td>\n",
       "      <td>...</td>\n",
       "      <td>...</td>\n",
       "      <td>...</td>\n",
       "      <td>...</td>\n",
       "      <td>...</td>\n",
       "    </tr>\n",
       "    <tr>\n",
       "      <th>239</th>\n",
       "      <td>29.03</td>\n",
       "      <td>5.92</td>\n",
       "      <td>Male</td>\n",
       "      <td>No</td>\n",
       "      <td>Sat</td>\n",
       "      <td>Dinner</td>\n",
       "      <td>3</td>\n",
       "    </tr>\n",
       "    <tr>\n",
       "      <th>240</th>\n",
       "      <td>27.18</td>\n",
       "      <td>2.00</td>\n",
       "      <td>Female</td>\n",
       "      <td>Yes</td>\n",
       "      <td>Sat</td>\n",
       "      <td>Dinner</td>\n",
       "      <td>2</td>\n",
       "    </tr>\n",
       "    <tr>\n",
       "      <th>241</th>\n",
       "      <td>22.67</td>\n",
       "      <td>2.00</td>\n",
       "      <td>Male</td>\n",
       "      <td>Yes</td>\n",
       "      <td>Sat</td>\n",
       "      <td>Dinner</td>\n",
       "      <td>2</td>\n",
       "    </tr>\n",
       "    <tr>\n",
       "      <th>242</th>\n",
       "      <td>17.82</td>\n",
       "      <td>1.75</td>\n",
       "      <td>Male</td>\n",
       "      <td>No</td>\n",
       "      <td>Sat</td>\n",
       "      <td>Dinner</td>\n",
       "      <td>2</td>\n",
       "    </tr>\n",
       "    <tr>\n",
       "      <th>243</th>\n",
       "      <td>18.78</td>\n",
       "      <td>3.00</td>\n",
       "      <td>Female</td>\n",
       "      <td>No</td>\n",
       "      <td>Thur</td>\n",
       "      <td>Dinner</td>\n",
       "      <td>2</td>\n",
       "    </tr>\n",
       "  </tbody>\n",
       "</table>\n",
       "<p>244 rows × 7 columns</p>\n",
       "</div>"
      ],
      "text/plain": [
       "     total_bill   tip     sex smoker   day    time  size\n",
       "0         16.99  1.01  Female     No   Sun  Dinner     2\n",
       "1         10.34  1.66    Male     No   Sun  Dinner     3\n",
       "2         21.01  3.50    Male     No   Sun  Dinner     3\n",
       "3         23.68  3.31    Male     No   Sun  Dinner     2\n",
       "4         24.59  3.61  Female     No   Sun  Dinner     4\n",
       "..          ...   ...     ...    ...   ...     ...   ...\n",
       "239       29.03  5.92    Male     No   Sat  Dinner     3\n",
       "240       27.18  2.00  Female    Yes   Sat  Dinner     2\n",
       "241       22.67  2.00    Male    Yes   Sat  Dinner     2\n",
       "242       17.82  1.75    Male     No   Sat  Dinner     2\n",
       "243       18.78  3.00  Female     No  Thur  Dinner     2\n",
       "\n",
       "[244 rows x 7 columns]"
      ]
     },
     "execution_count": 58,
     "metadata": {},
     "output_type": "execute_result"
    }
   ],
   "source": [
    "dataset"
   ]
  },
  {
   "cell_type": "code",
   "execution_count": 59,
   "id": "b6ffa991",
   "metadata": {},
   "outputs": [
    {
     "name": "stdout",
     "output_type": "stream",
     "text": [
      "<class 'pandas.core.frame.DataFrame'>\n",
      "RangeIndex: 244 entries, 0 to 243\n",
      "Data columns (total 7 columns):\n",
      " #   Column      Non-Null Count  Dtype   \n",
      "---  ------      --------------  -----   \n",
      " 0   total_bill  244 non-null    float64 \n",
      " 1   tip         244 non-null    float64 \n",
      " 2   sex         244 non-null    category\n",
      " 3   smoker      244 non-null    category\n",
      " 4   day         244 non-null    category\n",
      " 5   time        244 non-null    category\n",
      " 6   size        244 non-null    int64   \n",
      "dtypes: category(4), float64(2), int64(1)\n",
      "memory usage: 7.4 KB\n"
     ]
    }
   ],
   "source": [
    "dataset.info()"
   ]
  },
  {
   "cell_type": "code",
   "execution_count": 63,
   "id": "02f01a64",
   "metadata": {},
   "outputs": [
    {
     "data": {
      "text/plain": [
       "Index(['total_bill', 'tip', 'sex', 'smoker', 'day', 'time', 'size'], dtype='object')"
      ]
     },
     "execution_count": 63,
     "metadata": {},
     "output_type": "execute_result"
    }
   ],
   "source": [
    "dataset.columns"
   ]
  },
  {
   "cell_type": "code",
   "execution_count": null,
   "id": "e8161b17",
   "metadata": {},
   "outputs": [],
   "source": [
    "# this chi squre test we peform on top of thge categorical data"
   ]
  },
  {
   "cell_type": "code",
   "execution_count": 64,
   "id": "2bdff09b",
   "metadata": {},
   "outputs": [
    {
     "data": {
      "text/html": [
       "<div>\n",
       "<style scoped>\n",
       "    .dataframe tbody tr th:only-of-type {\n",
       "        vertical-align: middle;\n",
       "    }\n",
       "\n",
       "    .dataframe tbody tr th {\n",
       "        vertical-align: top;\n",
       "    }\n",
       "\n",
       "    .dataframe thead th {\n",
       "        text-align: right;\n",
       "    }\n",
       "</style>\n",
       "<table border=\"1\" class=\"dataframe\">\n",
       "  <thead>\n",
       "    <tr style=\"text-align: right;\">\n",
       "      <th></th>\n",
       "      <th>total_bill</th>\n",
       "      <th>tip</th>\n",
       "      <th>sex</th>\n",
       "      <th>smoker</th>\n",
       "      <th>day</th>\n",
       "      <th>time</th>\n",
       "      <th>size</th>\n",
       "    </tr>\n",
       "  </thead>\n",
       "  <tbody>\n",
       "    <tr>\n",
       "      <th>0</th>\n",
       "      <td>16.99</td>\n",
       "      <td>1.01</td>\n",
       "      <td>Female</td>\n",
       "      <td>No</td>\n",
       "      <td>Sun</td>\n",
       "      <td>Dinner</td>\n",
       "      <td>2</td>\n",
       "    </tr>\n",
       "    <tr>\n",
       "      <th>1</th>\n",
       "      <td>10.34</td>\n",
       "      <td>1.66</td>\n",
       "      <td>Male</td>\n",
       "      <td>No</td>\n",
       "      <td>Sun</td>\n",
       "      <td>Dinner</td>\n",
       "      <td>3</td>\n",
       "    </tr>\n",
       "    <tr>\n",
       "      <th>2</th>\n",
       "      <td>21.01</td>\n",
       "      <td>3.50</td>\n",
       "      <td>Male</td>\n",
       "      <td>No</td>\n",
       "      <td>Sun</td>\n",
       "      <td>Dinner</td>\n",
       "      <td>3</td>\n",
       "    </tr>\n",
       "    <tr>\n",
       "      <th>3</th>\n",
       "      <td>23.68</td>\n",
       "      <td>3.31</td>\n",
       "      <td>Male</td>\n",
       "      <td>No</td>\n",
       "      <td>Sun</td>\n",
       "      <td>Dinner</td>\n",
       "      <td>2</td>\n",
       "    </tr>\n",
       "    <tr>\n",
       "      <th>4</th>\n",
       "      <td>24.59</td>\n",
       "      <td>3.61</td>\n",
       "      <td>Female</td>\n",
       "      <td>No</td>\n",
       "      <td>Sun</td>\n",
       "      <td>Dinner</td>\n",
       "      <td>4</td>\n",
       "    </tr>\n",
       "  </tbody>\n",
       "</table>\n",
       "</div>"
      ],
      "text/plain": [
       "   total_bill   tip     sex smoker  day    time  size\n",
       "0       16.99  1.01  Female     No  Sun  Dinner     2\n",
       "1       10.34  1.66    Male     No  Sun  Dinner     3\n",
       "2       21.01  3.50    Male     No  Sun  Dinner     3\n",
       "3       23.68  3.31    Male     No  Sun  Dinner     2\n",
       "4       24.59  3.61  Female     No  Sun  Dinner     4"
      ]
     },
     "execution_count": 64,
     "metadata": {},
     "output_type": "execute_result"
    }
   ],
   "source": [
    "dataset.head()"
   ]
  },
  {
   "cell_type": "code",
   "execution_count": 69,
   "id": "2702e041",
   "metadata": {},
   "outputs": [
    {
     "data": {
      "text/html": [
       "<div>\n",
       "<style scoped>\n",
       "    .dataframe tbody tr th:only-of-type {\n",
       "        vertical-align: middle;\n",
       "    }\n",
       "\n",
       "    .dataframe tbody tr th {\n",
       "        vertical-align: top;\n",
       "    }\n",
       "\n",
       "    .dataframe thead th {\n",
       "        text-align: right;\n",
       "    }\n",
       "</style>\n",
       "<table border=\"1\" class=\"dataframe\">\n",
       "  <thead>\n",
       "    <tr style=\"text-align: right;\">\n",
       "      <th></th>\n",
       "      <th>sex</th>\n",
       "      <th>smoker</th>\n",
       "    </tr>\n",
       "  </thead>\n",
       "  <tbody>\n",
       "    <tr>\n",
       "      <th>0</th>\n",
       "      <td>Female</td>\n",
       "      <td>No</td>\n",
       "    </tr>\n",
       "    <tr>\n",
       "      <th>1</th>\n",
       "      <td>Male</td>\n",
       "      <td>No</td>\n",
       "    </tr>\n",
       "    <tr>\n",
       "      <th>2</th>\n",
       "      <td>Male</td>\n",
       "      <td>No</td>\n",
       "    </tr>\n",
       "    <tr>\n",
       "      <th>3</th>\n",
       "      <td>Male</td>\n",
       "      <td>No</td>\n",
       "    </tr>\n",
       "    <tr>\n",
       "      <th>4</th>\n",
       "      <td>Female</td>\n",
       "      <td>No</td>\n",
       "    </tr>\n",
       "    <tr>\n",
       "      <th>...</th>\n",
       "      <td>...</td>\n",
       "      <td>...</td>\n",
       "    </tr>\n",
       "    <tr>\n",
       "      <th>239</th>\n",
       "      <td>Male</td>\n",
       "      <td>No</td>\n",
       "    </tr>\n",
       "    <tr>\n",
       "      <th>240</th>\n",
       "      <td>Female</td>\n",
       "      <td>Yes</td>\n",
       "    </tr>\n",
       "    <tr>\n",
       "      <th>241</th>\n",
       "      <td>Male</td>\n",
       "      <td>Yes</td>\n",
       "    </tr>\n",
       "    <tr>\n",
       "      <th>242</th>\n",
       "      <td>Male</td>\n",
       "      <td>No</td>\n",
       "    </tr>\n",
       "    <tr>\n",
       "      <th>243</th>\n",
       "      <td>Female</td>\n",
       "      <td>No</td>\n",
       "    </tr>\n",
       "  </tbody>\n",
       "</table>\n",
       "<p>244 rows × 2 columns</p>\n",
       "</div>"
      ],
      "text/plain": [
       "        sex smoker\n",
       "0    Female     No\n",
       "1      Male     No\n",
       "2      Male     No\n",
       "3      Male     No\n",
       "4    Female     No\n",
       "..      ...    ...\n",
       "239    Male     No\n",
       "240  Female    Yes\n",
       "241    Male    Yes\n",
       "242    Male     No\n",
       "243  Female     No\n",
       "\n",
       "[244 rows x 2 columns]"
      ]
     },
     "execution_count": 69,
     "metadata": {},
     "output_type": "execute_result"
    }
   ],
   "source": [
    "dataset[[\"sex\",\"smoker\"]]"
   ]
  },
  {
   "cell_type": "code",
   "execution_count": 73,
   "id": "b4e7089e",
   "metadata": {},
   "outputs": [],
   "source": [
    "import pandas as pd\n",
    "dataset_table=pd.crosstab(dataset[\"sex\"],dataset[\"smoker\"])"
   ]
  },
  {
   "cell_type": "code",
   "execution_count": 74,
   "id": "14818051",
   "metadata": {},
   "outputs": [
    {
     "data": {
      "text/html": [
       "<div>\n",
       "<style scoped>\n",
       "    .dataframe tbody tr th:only-of-type {\n",
       "        vertical-align: middle;\n",
       "    }\n",
       "\n",
       "    .dataframe tbody tr th {\n",
       "        vertical-align: top;\n",
       "    }\n",
       "\n",
       "    .dataframe thead th {\n",
       "        text-align: right;\n",
       "    }\n",
       "</style>\n",
       "<table border=\"1\" class=\"dataframe\">\n",
       "  <thead>\n",
       "    <tr style=\"text-align: right;\">\n",
       "      <th>smoker</th>\n",
       "      <th>Yes</th>\n",
       "      <th>No</th>\n",
       "    </tr>\n",
       "    <tr>\n",
       "      <th>sex</th>\n",
       "      <th></th>\n",
       "      <th></th>\n",
       "    </tr>\n",
       "  </thead>\n",
       "  <tbody>\n",
       "    <tr>\n",
       "      <th>Male</th>\n",
       "      <td>60</td>\n",
       "      <td>97</td>\n",
       "    </tr>\n",
       "    <tr>\n",
       "      <th>Female</th>\n",
       "      <td>33</td>\n",
       "      <td>54</td>\n",
       "    </tr>\n",
       "  </tbody>\n",
       "</table>\n",
       "</div>"
      ],
      "text/plain": [
       "smoker  Yes  No\n",
       "sex            \n",
       "Male     60  97\n",
       "Female   33  54"
      ]
     },
     "execution_count": 74,
     "metadata": {},
     "output_type": "execute_result"
    }
   ],
   "source": [
    "dataset_table"
   ]
  },
  {
   "cell_type": "code",
   "execution_count": 78,
   "id": "2ae58c30",
   "metadata": {},
   "outputs": [],
   "source": [
    "observed_values=dataset_table.values\n"
   ]
  },
  {
   "cell_type": "code",
   "execution_count": 79,
   "id": "596dd77a",
   "metadata": {},
   "outputs": [
    {
     "data": {
      "text/plain": [
       "array([[60, 97],\n",
       "       [33, 54]], dtype=int64)"
      ]
     },
     "execution_count": 79,
     "metadata": {},
     "output_type": "execute_result"
    }
   ],
   "source": [
    "observed_values"
   ]
  },
  {
   "cell_type": "code",
   "execution_count": 80,
   "id": "1d003334",
   "metadata": {},
   "outputs": [],
   "source": [
    "import scipy.stats as stats"
   ]
  },
  {
   "cell_type": "code",
   "execution_count": 82,
   "id": "20c574fb",
   "metadata": {},
   "outputs": [],
   "source": [
    "stats_test,p,dof,Expected_Value=stats.chi2_contingency(observed_values)"
   ]
  },
  {
   "cell_type": "code",
   "execution_count": 83,
   "id": "cbb4f9a8",
   "metadata": {},
   "outputs": [
    {
     "data": {
      "text/plain": [
       "array([[59.84016393, 97.15983607],\n",
       "       [33.15983607, 53.84016393]])"
      ]
     },
     "execution_count": 83,
     "metadata": {},
     "output_type": "execute_result"
    }
   ],
   "source": [
    "Expected_Value"
   ]
  },
  {
   "cell_type": "code",
   "execution_count": 86,
   "id": "cb1a891c",
   "metadata": {},
   "outputs": [],
   "source": [
    "no_of_rows=dataset_table.iloc[0:2,0]"
   ]
  },
  {
   "cell_type": "code",
   "execution_count": 87,
   "id": "04720663",
   "metadata": {},
   "outputs": [],
   "source": [
    "no_of_cols=dataset_table.iloc[0,0:2]"
   ]
  },
  {
   "cell_type": "code",
   "execution_count": 88,
   "id": "b7c19a59",
   "metadata": {},
   "outputs": [],
   "source": [
    "dof=(len(no_of_cols)-1)*(len(no_of_rows)-1)"
   ]
  },
  {
   "cell_type": "code",
   "execution_count": 89,
   "id": "056da556",
   "metadata": {},
   "outputs": [
    {
     "data": {
      "text/plain": [
       "1"
      ]
     },
     "execution_count": 89,
     "metadata": {},
     "output_type": "execute_result"
    }
   ],
   "source": [
    "dof"
   ]
  },
  {
   "cell_type": "code",
   "execution_count": 90,
   "id": "ebd65567",
   "metadata": {},
   "outputs": [
    {
     "name": "stderr",
     "output_type": "stream",
     "text": [
      "'[image.png]' is not recognized as an internal or external command,\n",
      "operable program or batch file.\n"
     ]
    }
   ],
   "source": [
    "![image.png](attachment:image.png)"
   ]
  },
  {
   "cell_type": "code",
   "execution_count": 93,
   "id": "fd04f935",
   "metadata": {},
   "outputs": [
    {
     "name": "stdout",
     "output_type": "stream",
     "text": [
      "[60 97] [59.84016393 97.15983607]\n",
      "[33 54] [33.15983607 53.84016393]\n"
     ]
    }
   ],
   "source": [
    "for o,e in zip(observed_values,Expected_Value):\n",
    "    print(o,e)"
   ]
  },
  {
   "cell_type": "code",
   "execution_count": 95,
   "id": "33518066",
   "metadata": {},
   "outputs": [],
   "source": [
    "from scipy.stats import chi2\n",
    "chisqure=sum([(o-e)**2/e for o,e in zip(observed_values,Expected_Value)])"
   ]
  },
  {
   "cell_type": "code",
   "execution_count": 96,
   "id": "189ec92a",
   "metadata": {},
   "outputs": [
    {
     "data": {
      "text/plain": [
       "array([0.00119737, 0.00073745])"
      ]
     },
     "execution_count": 96,
     "metadata": {},
     "output_type": "execute_result"
    }
   ],
   "source": [
    "chisqure"
   ]
  },
  {
   "cell_type": "code",
   "execution_count": 97,
   "id": "ed25aeca",
   "metadata": {},
   "outputs": [],
   "source": [
    "chisqurestats=chisqure[0]+chisqure[1]"
   ]
  },
  {
   "cell_type": "code",
   "execution_count": 98,
   "id": "e50e9f2a",
   "metadata": {},
   "outputs": [
    {
     "data": {
      "text/plain": [
       "0.001934818536627623"
      ]
     },
     "execution_count": 98,
     "metadata": {},
     "output_type": "execute_result"
    }
   ],
   "source": [
    "chisqurestats"
   ]
  },
  {
   "cell_type": "code",
   "execution_count": 99,
   "id": "79a29858",
   "metadata": {},
   "outputs": [],
   "source": [
    "alpha=0.5\n",
    "Ci=0.95"
   ]
  },
  {
   "cell_type": "code",
   "execution_count": 100,
   "id": "179e405e",
   "metadata": {},
   "outputs": [],
   "source": [
    "critical_chi_value=chi2.ppf(Ci,df=dof)"
   ]
  },
  {
   "cell_type": "code",
   "execution_count": 101,
   "id": "6a8c326a",
   "metadata": {},
   "outputs": [
    {
     "data": {
      "text/plain": [
       "3.841458820694124"
      ]
     },
     "execution_count": 101,
     "metadata": {},
     "output_type": "execute_result"
    }
   ],
   "source": [
    "critical_chi_value"
   ]
  },
  {
   "cell_type": "code",
   "execution_count": 102,
   "id": "ad414ad0",
   "metadata": {},
   "outputs": [
    {
     "name": "stdout",
     "output_type": "stream",
     "text": [
      "accept the null hyphothesis there is no relation between two categorical variable\n"
     ]
    }
   ],
   "source": [
    "if chisqurestats>=critical_chi_value:\n",
    "    print(\" reject the null hyphothesis, there is a relatiuonship between two categorical variable\")\n",
    "else:\n",
    "    print(\"accept the null hyphothesis there is no relation between two categorical variable\")"
   ]
  },
  {
   "cell_type": "code",
   "execution_count": null,
   "id": "e58e1457",
   "metadata": {},
   "outputs": [],
   "source": []
  }
 ],
 "metadata": {
  "kernelspec": {
   "display_name": "Python 3 (ipykernel)",
   "language": "python",
   "name": "python3"
  },
  "language_info": {
   "codemirror_mode": {
    "name": "ipython",
    "version": 3
   },
   "file_extension": ".py",
   "mimetype": "text/x-python",
   "name": "python",
   "nbconvert_exporter": "python",
   "pygments_lexer": "ipython3",
   "version": "3.9.12"
  }
 },
 "nbformat": 4,
 "nbformat_minor": 5
}
